{
  "nbformat": 4,
  "nbformat_minor": 0,
  "metadata": {
    "colab": {
      "provenance": [],
      "include_colab_link": true
    },
    "kernelspec": {
      "name": "python3",
      "display_name": "Python 3"
    },
    "language_info": {
      "name": "python"
    }
  },
  "cells": [
    {
      "cell_type": "markdown",
      "metadata": {
        "id": "view-in-github",
        "colab_type": "text"
      },
      "source": [
        "<a href=\"https://colab.research.google.com/github/WaliMuhammadAhmad/7thSemester/blob/main/CVIP/CVIP_1.ipynb\" target=\"_parent\"><img src=\"https://colab.research.google.com/assets/colab-badge.svg\" alt=\"Open In Colab\"/></a>"
      ]
    },
    {
      "cell_type": "code",
      "execution_count": 1,
      "metadata": {
        "id": "ovlS7qwFHQFj",
        "colab": {
          "base_uri": "https://localhost:8080/"
        },
        "outputId": "17b63702-2569-49be-91ef-fb60b3faeb9f"
      },
      "outputs": [
        {
          "output_type": "execute_result",
          "data": {
            "text/plain": [
              "[[9, 1, 2, 3, 4, 5, 6, 7],\n",
              " [7, 6, 5, 4, 3, 2, 1, 0],\n",
              " [1, 2, 3, 4, 5, 6, 7, 0],\n",
              " [2, 3, 4, 5, 6, 7, 0, 1],\n",
              " [3, 4, 5, 6, 7, 0, 1, 2],\n",
              " [4, 5, 6, 7, 0, 1, 2, 3],\n",
              " [5, 6, 7, 0, 1, 2, 3, 4],\n",
              " [6, 7, 9, 1, 2, 3, 4, 5]]"
            ]
          },
          "metadata": {},
          "execution_count": 1
        }
      ],
      "source": [
        "# random grid\n",
        "image_grid = [\n",
        "    [9, 1, 2, 3, 4, 5, 6, 7],\n",
        "    [7, 6, 5, 4, 3, 2, 1, 0],\n",
        "    [1, 2, 3, 4, 5, 6, 7, 0],\n",
        "    [2, 3, 4, 5, 6, 7, 0, 1],\n",
        "    [3, 4, 5, 6, 7, 0, 1, 2],\n",
        "    [4, 5, 6, 7, 0, 1, 2, 3],\n",
        "    [5, 6, 7, 0, 1, 2, 3, 4],\n",
        "    [6, 7, 9, 1, 2, 3, 4, 5]\n",
        "]\n",
        "image_grid"
      ]
    },
    {
      "cell_type": "code",
      "source": [
        "window_size = 3\n",
        "grid_size = 8"
      ],
      "metadata": {
        "id": "1iF_Fbn9HRlX"
      },
      "execution_count": 2,
      "outputs": []
    },
    {
      "cell_type": "code",
      "source": [
        "new_grid_size = grid_size + window_size -1\n",
        "new_grid_size"
      ],
      "metadata": {
        "colab": {
          "base_uri": "https://localhost:8080/"
        },
        "id": "E6_zGADJHXFv",
        "outputId": "8964d6f5-8d57-4b8c-e84c-70de9fa266a5"
      },
      "execution_count": 3,
      "outputs": [
        {
          "output_type": "execute_result",
          "data": {
            "text/plain": [
              "10"
            ]
          },
          "metadata": {},
          "execution_count": 3
        }
      ]
    },
    {
      "cell_type": "code",
      "source": [
        "# Create an empty 10x10 grid initialized with zeros\n",
        "new_grid = [[0 for _ in range(10)] for _ in range(10)]\n",
        "new_grid"
      ],
      "metadata": {
        "id": "aojuWYNhHq89",
        "colab": {
          "base_uri": "https://localhost:8080/"
        },
        "outputId": "99b13a19-b47d-4472-a130-e08e1f16d750"
      },
      "execution_count": 4,
      "outputs": [
        {
          "output_type": "execute_result",
          "data": {
            "text/plain": [
              "[[0, 0, 0, 0, 0, 0, 0, 0, 0, 0],\n",
              " [0, 0, 0, 0, 0, 0, 0, 0, 0, 0],\n",
              " [0, 0, 0, 0, 0, 0, 0, 0, 0, 0],\n",
              " [0, 0, 0, 0, 0, 0, 0, 0, 0, 0],\n",
              " [0, 0, 0, 0, 0, 0, 0, 0, 0, 0],\n",
              " [0, 0, 0, 0, 0, 0, 0, 0, 0, 0],\n",
              " [0, 0, 0, 0, 0, 0, 0, 0, 0, 0],\n",
              " [0, 0, 0, 0, 0, 0, 0, 0, 0, 0],\n",
              " [0, 0, 0, 0, 0, 0, 0, 0, 0, 0],\n",
              " [0, 0, 0, 0, 0, 0, 0, 0, 0, 0]]"
            ]
          },
          "metadata": {},
          "execution_count": 4
        }
      ]
    },
    {
      "cell_type": "code",
      "source": [
        "# Copy values from the 8x8 grid into the center of the new grid (1:9, 1:9)\n",
        "for i in range(8):\n",
        "    for j in range(8):\n",
        "        new_grid[i+1][j+1] = image_grid[i][j]\n",
        "\n",
        "new_grid"
      ],
      "metadata": {
        "id": "hp1AeGQgRO0c",
        "colab": {
          "base_uri": "https://localhost:8080/"
        },
        "outputId": "c164b8ad-1e1a-400b-c6f5-ab7683ab8d9f"
      },
      "execution_count": 5,
      "outputs": [
        {
          "output_type": "execute_result",
          "data": {
            "text/plain": [
              "[[0, 0, 0, 0, 0, 0, 0, 0, 0, 0],\n",
              " [0, 9, 1, 2, 3, 4, 5, 6, 7, 0],\n",
              " [0, 7, 6, 5, 4, 3, 2, 1, 0, 0],\n",
              " [0, 1, 2, 3, 4, 5, 6, 7, 0, 0],\n",
              " [0, 2, 3, 4, 5, 6, 7, 0, 1, 0],\n",
              " [0, 3, 4, 5, 6, 7, 0, 1, 2, 0],\n",
              " [0, 4, 5, 6, 7, 0, 1, 2, 3, 0],\n",
              " [0, 5, 6, 7, 0, 1, 2, 3, 4, 0],\n",
              " [0, 6, 7, 9, 1, 2, 3, 4, 5, 0],\n",
              " [0, 0, 0, 0, 0, 0, 0, 0, 0, 0]]"
            ]
          },
          "metadata": {},
          "execution_count": 5
        }
      ]
    },
    {
      "cell_type": "code",
      "source": [
        "new_grid[0][1:9] = image_grid[0]\n",
        "new_grid"
      ],
      "metadata": {
        "colab": {
          "base_uri": "https://localhost:8080/"
        },
        "id": "Ug51FD1SEB8C",
        "outputId": "7f3b5344-6d1a-4629-8e6c-25c220c4fc7e"
      },
      "execution_count": 6,
      "outputs": [
        {
          "output_type": "execute_result",
          "data": {
            "text/plain": [
              "[[0, 9, 1, 2, 3, 4, 5, 6, 7, 0],\n",
              " [0, 9, 1, 2, 3, 4, 5, 6, 7, 0],\n",
              " [0, 7, 6, 5, 4, 3, 2, 1, 0, 0],\n",
              " [0, 1, 2, 3, 4, 5, 6, 7, 0, 0],\n",
              " [0, 2, 3, 4, 5, 6, 7, 0, 1, 0],\n",
              " [0, 3, 4, 5, 6, 7, 0, 1, 2, 0],\n",
              " [0, 4, 5, 6, 7, 0, 1, 2, 3, 0],\n",
              " [0, 5, 6, 7, 0, 1, 2, 3, 4, 0],\n",
              " [0, 6, 7, 9, 1, 2, 3, 4, 5, 0],\n",
              " [0, 0, 0, 0, 0, 0, 0, 0, 0, 0]]"
            ]
          },
          "metadata": {},
          "execution_count": 6
        }
      ]
    },
    {
      "cell_type": "code",
      "source": [
        "# Fill the outer edges by copying the closest values\n",
        "# Top row (copy row 1 from image_grid)\n",
        "new_grid[0][1:9] = image_grid[0]\n",
        "new_grid"
      ],
      "metadata": {
        "colab": {
          "base_uri": "https://localhost:8080/"
        },
        "id": "lkp1AorMESm-",
        "outputId": "e3e20132-2f34-417a-b214-d619d4258baa"
      },
      "execution_count": 7,
      "outputs": [
        {
          "output_type": "execute_result",
          "data": {
            "text/plain": [
              "[[0, 9, 1, 2, 3, 4, 5, 6, 7, 0],\n",
              " [0, 9, 1, 2, 3, 4, 5, 6, 7, 0],\n",
              " [0, 7, 6, 5, 4, 3, 2, 1, 0, 0],\n",
              " [0, 1, 2, 3, 4, 5, 6, 7, 0, 0],\n",
              " [0, 2, 3, 4, 5, 6, 7, 0, 1, 0],\n",
              " [0, 3, 4, 5, 6, 7, 0, 1, 2, 0],\n",
              " [0, 4, 5, 6, 7, 0, 1, 2, 3, 0],\n",
              " [0, 5, 6, 7, 0, 1, 2, 3, 4, 0],\n",
              " [0, 6, 7, 9, 1, 2, 3, 4, 5, 0],\n",
              " [0, 0, 0, 0, 0, 0, 0, 0, 0, 0]]"
            ]
          },
          "metadata": {},
          "execution_count": 7
        }
      ]
    },
    {
      "cell_type": "code",
      "source": [
        "# Bottom row (copy row 7 from image_grid)\n",
        "new_grid[9][1:9] = image_grid[7]\n",
        "new_grid"
      ],
      "metadata": {
        "colab": {
          "base_uri": "https://localhost:8080/"
        },
        "id": "hO2pplEzEmdt",
        "outputId": "926e9856-2491-4ade-c8ff-eee21d79b18e"
      },
      "execution_count": 8,
      "outputs": [
        {
          "output_type": "execute_result",
          "data": {
            "text/plain": [
              "[[0, 9, 1, 2, 3, 4, 5, 6, 7, 0],\n",
              " [0, 9, 1, 2, 3, 4, 5, 6, 7, 0],\n",
              " [0, 7, 6, 5, 4, 3, 2, 1, 0, 0],\n",
              " [0, 1, 2, 3, 4, 5, 6, 7, 0, 0],\n",
              " [0, 2, 3, 4, 5, 6, 7, 0, 1, 0],\n",
              " [0, 3, 4, 5, 6, 7, 0, 1, 2, 0],\n",
              " [0, 4, 5, 6, 7, 0, 1, 2, 3, 0],\n",
              " [0, 5, 6, 7, 0, 1, 2, 3, 4, 0],\n",
              " [0, 6, 7, 9, 1, 2, 3, 4, 5, 0],\n",
              " [0, 6, 7, 9, 1, 2, 3, 4, 5, 0]]"
            ]
          },
          "metadata": {},
          "execution_count": 8
        }
      ]
    },
    {
      "cell_type": "code",
      "source": [
        "# Left column (copy column 1 from image_grid)\n",
        "for i in range(1, 9):\n",
        "    new_grid[i][0] = image_grid[i-1][0]\n",
        "\n",
        "new_grid"
      ],
      "metadata": {
        "colab": {
          "base_uri": "https://localhost:8080/"
        },
        "id": "I4iBQ3BOEtZ4",
        "outputId": "a57c7d89-aca6-4053-9e0a-a24da6d3a3de"
      },
      "execution_count": 9,
      "outputs": [
        {
          "output_type": "execute_result",
          "data": {
            "text/plain": [
              "[[0, 9, 1, 2, 3, 4, 5, 6, 7, 0],\n",
              " [9, 9, 1, 2, 3, 4, 5, 6, 7, 0],\n",
              " [7, 7, 6, 5, 4, 3, 2, 1, 0, 0],\n",
              " [1, 1, 2, 3, 4, 5, 6, 7, 0, 0],\n",
              " [2, 2, 3, 4, 5, 6, 7, 0, 1, 0],\n",
              " [3, 3, 4, 5, 6, 7, 0, 1, 2, 0],\n",
              " [4, 4, 5, 6, 7, 0, 1, 2, 3, 0],\n",
              " [5, 5, 6, 7, 0, 1, 2, 3, 4, 0],\n",
              " [6, 6, 7, 9, 1, 2, 3, 4, 5, 0],\n",
              " [0, 6, 7, 9, 1, 2, 3, 4, 5, 0]]"
            ]
          },
          "metadata": {},
          "execution_count": 9
        }
      ]
    },
    {
      "cell_type": "code",
      "source": [
        "# Right column (copy column 7 from image_grid)\n",
        "for i in range(1, 9):\n",
        "    new_grid[i][9] = image_grid[i-1][7]\n",
        "\n",
        "new_grid"
      ],
      "metadata": {
        "colab": {
          "base_uri": "https://localhost:8080/"
        },
        "id": "WconXkQ1E5kW",
        "outputId": "fce4663c-a2f4-4cae-dcd5-d3c6a2f37d08"
      },
      "execution_count": 10,
      "outputs": [
        {
          "output_type": "execute_result",
          "data": {
            "text/plain": [
              "[[0, 9, 1, 2, 3, 4, 5, 6, 7, 0],\n",
              " [9, 9, 1, 2, 3, 4, 5, 6, 7, 7],\n",
              " [7, 7, 6, 5, 4, 3, 2, 1, 0, 0],\n",
              " [1, 1, 2, 3, 4, 5, 6, 7, 0, 0],\n",
              " [2, 2, 3, 4, 5, 6, 7, 0, 1, 1],\n",
              " [3, 3, 4, 5, 6, 7, 0, 1, 2, 2],\n",
              " [4, 4, 5, 6, 7, 0, 1, 2, 3, 3],\n",
              " [5, 5, 6, 7, 0, 1, 2, 3, 4, 4],\n",
              " [6, 6, 7, 9, 1, 2, 3, 4, 5, 5],\n",
              " [0, 6, 7, 9, 1, 2, 3, 4, 5, 0]]"
            ]
          },
          "metadata": {},
          "execution_count": 10
        }
      ]
    },
    {
      "cell_type": "code",
      "source": [
        "new_grid[0][0] = image_grid[0][0]  # Top-left corner\n",
        "new_grid[0][9] = image_grid[0][7]  # Top-right corner\n",
        "new_grid[9][0] = image_grid[7][0]  # Bottom-left corner\n",
        "new_grid[9][9] = image_grid[7][7]  # Bottom-right corner\n",
        "\n",
        "new_grid"
      ],
      "metadata": {
        "id": "D0kAMnsDRSEj",
        "colab": {
          "base_uri": "https://localhost:8080/"
        },
        "outputId": "70452d40-e138-49aa-f6ef-33cfd22d74bc"
      },
      "execution_count": 11,
      "outputs": [
        {
          "output_type": "execute_result",
          "data": {
            "text/plain": [
              "[[9, 9, 1, 2, 3, 4, 5, 6, 7, 7],\n",
              " [9, 9, 1, 2, 3, 4, 5, 6, 7, 7],\n",
              " [7, 7, 6, 5, 4, 3, 2, 1, 0, 0],\n",
              " [1, 1, 2, 3, 4, 5, 6, 7, 0, 0],\n",
              " [2, 2, 3, 4, 5, 6, 7, 0, 1, 1],\n",
              " [3, 3, 4, 5, 6, 7, 0, 1, 2, 2],\n",
              " [4, 4, 5, 6, 7, 0, 1, 2, 3, 3],\n",
              " [5, 5, 6, 7, 0, 1, 2, 3, 4, 4],\n",
              " [6, 6, 7, 9, 1, 2, 3, 4, 5, 5],\n",
              " [6, 6, 7, 9, 1, 2, 3, 4, 5, 5]]"
            ]
          },
          "metadata": {},
          "execution_count": 11
        }
      ]
    },
    {
      "cell_type": "markdown",
      "source": [
        "applying filter"
      ],
      "metadata": {
        "id": "mFy9m3MgFNbm"
      }
    },
    {
      "cell_type": "code",
      "source": [
        "def avg_filter(image_grid, row, col):\n",
        "    # Size of the grid\n",
        "    rows = len(image_grid)\n",
        "    cols = len(image_grid[0])\n",
        "\n",
        "    # Variable to store the sum of pixel values in the 3x3 grid\n",
        "    total_sum = 0\n",
        "    count = 0\n",
        "\n",
        "    # Loop over the 3x3 grid centered at (row, col)\n",
        "    for i in range(row-1, row+2):  # row-1 to row+1\n",
        "        for j in range(col-1, col+2):  # col-1 to col+1\n",
        "            # Check if the indices are within the bounds of the grid\n",
        "            if 0 <= i < rows and 0 <= j < cols:\n",
        "                total_sum += image_grid[i][j]\n",
        "                count += 1\n",
        "\n",
        "    # Return the average (sum divided by the count of valid pixels)\n",
        "    return total_sum // count if count != 0 else 0  # integer division for simplicity\n"
      ],
      "metadata": {
        "id": "G7zY12qGSutp"
      },
      "execution_count": 12,
      "outputs": []
    },
    {
      "cell_type": "code",
      "source": [
        "# Create an empty 10x10 grid initialized with zeros\n",
        "new_processed_grid = [[0 for _ in range(8)] for _ in range(8)]"
      ],
      "metadata": {
        "id": "R1TNsAsyUaLz"
      },
      "execution_count": 13,
      "outputs": []
    },
    {
      "cell_type": "code",
      "source": [
        "for row in range(1,9):\n",
        "  for col in range(1,9):\n",
        "    new_processed_grid[row-1][col-1] = avg_filter(image_grid, row, col)"
      ],
      "metadata": {
        "id": "p54g1XqYTGqU"
      },
      "execution_count": 14,
      "outputs": []
    },
    {
      "cell_type": "code",
      "source": [
        "# Print the new 10x10 grid\n",
        "for row in new_processed_grid:\n",
        "    print(row)"
      ],
      "metadata": {
        "colab": {
          "base_uri": "https://localhost:8080/"
        },
        "id": "TRzfNFadUCwZ",
        "outputId": "060d5753-4c4f-42ab-c5c5-b591a01f03f9"
      },
      "execution_count": 15,
      "outputs": [
        {
          "output_type": "stream",
          "name": "stdout",
          "text": [
            "[4, 3, 3, 4, 4, 3, 3, 2]\n",
            "[3, 4, 4, 4, 4, 2, 1, 0]\n",
            "[3, 4, 5, 5, 4, 2, 1, 1]\n",
            "[4, 5, 5, 4, 2, 1, 1, 2]\n",
            "[5, 5, 4, 2, 1, 2, 2, 3]\n",
            "[6, 5, 3, 1, 2, 3, 3, 4]\n",
            "[6, 5, 3, 1, 2, 3, 4, 4]\n",
            "[7, 5, 4, 2, 3, 4, 4, 5]\n"
          ]
        }
      ]
    }
  ]
}