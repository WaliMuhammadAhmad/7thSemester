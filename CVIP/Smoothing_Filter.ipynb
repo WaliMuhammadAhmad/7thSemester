{
  "nbformat": 4,
  "nbformat_minor": 0,
  "metadata": {
    "colab": {
      "provenance": [],
      "include_colab_link": true
    },
    "kernelspec": {
      "name": "python3",
      "display_name": "Python 3"
    },
    "language_info": {
      "name": "python"
    }
  },
  "cells": [
    {
      "cell_type": "markdown",
      "metadata": {
        "id": "view-in-github",
        "colab_type": "text"
      },
      "source": [
        "<a href=\"https://colab.research.google.com/github/WaliMuhammadAhmad/7thSemester/blob/main/CVIP/Smoothing_Filter.ipynb\" target=\"_parent\"><img src=\"https://colab.research.google.com/assets/colab-badge.svg\" alt=\"Open In Colab\"/></a>"
      ]
    },
    {
      "cell_type": "code",
      "source": [
        "import random"
      ],
      "metadata": {
        "id": "WIhCb0zRjwm4"
      },
      "execution_count": 1,
      "outputs": []
    },
    {
      "cell_type": "code",
      "source": [
        "def size():\n",
        "  grid_size = int(input(\"Enter the grid size : \"))\n",
        "  while(True):\n",
        "    mask = int(input(\"Enter the mask size (must be odd): \"))\n",
        "    if (mask % 2 != 0 and mask<=grid_size):\n",
        "      break\n",
        "    elif (mask == 0):\n",
        "      print(\"mask size must not be zero!\")\n",
        "      continue\n",
        "    else:\n",
        "      print(\"mask size must be odd and smaller then grid size!\")\n",
        "      continue\n",
        "\n",
        "  return grid_size, mask"
      ],
      "metadata": {
        "id": "7RkTyCtVXuTe"
      },
      "execution_count": 2,
      "outputs": []
    },
    {
      "cell_type": "code",
      "source": [
        "def random_init(grid_size):\n",
        "    grid = [[random.randint(0, 9) for _ in range(grid_size)] for _ in range(grid_size)]\n",
        "    return grid"
      ],
      "metadata": {
        "id": "OnzSch2BbZRV"
      },
      "execution_count": 3,
      "outputs": []
    },
    {
      "cell_type": "code",
      "source": [
        "def user_init(grid_size):\n",
        "\n",
        "  grid = [[0 for _ in range(grid_size)] for _ in range(grid_size)]\n",
        "  for i in range(grid_size):\n",
        "      for j in range(grid_size):\n",
        "        grid[i][j] = int(input(f\"Enter value for index [{i}][{j}] : \"))\n",
        "\n",
        "  return grid"
      ],
      "metadata": {
        "id": "cck_jon1bt0c"
      },
      "execution_count": 4,
      "outputs": []
    },
    {
      "cell_type": "code",
      "source": [
        "def n_grid(grid,mask_size,init):\n",
        "\n",
        "  grid_size = len(grid)\n",
        "  n_size = grid_size + (mask_size - 1)\n",
        "  # init based on {init} value\n",
        "  if init==\"w\":\n",
        "    new_grid = [[9 for _ in range(n_size)] for _ in range(n_size)]\n",
        "    for i in range(grid_size):\n",
        "      for j in range(grid_size):\n",
        "        new_grid[i+1][j+1] = grid[i][j]\n",
        "  elif init==\"b\":\n",
        "    new_grid = [[0 for _ in range(n_size)] for _ in range(n_size)]\n",
        "    for i in range(grid_size):\n",
        "      for j in range(grid_size):\n",
        "        new_grid[i+1][j+1] = grid[i][j]\n",
        "  elif init==\"n\":\n",
        "    new_grid = [[0 for _ in range(n_size)] for _ in range(n_size)]\n",
        "\n",
        "    for i in range(grid_size):\n",
        "      for j in range(grid_size):\n",
        "        new_grid[i+1][j+1] = grid[i][j]\n",
        "\n",
        "    # upper row\n",
        "    for i in range(grid_size):\n",
        "      new_grid[0][i+1] = grid[0][i]\n",
        "\n",
        "    # lower row\n",
        "    for i in range(grid_size):\n",
        "      new_grid[n_size-1][i+1] = grid[grid_size-1][i]\n",
        "\n",
        "    # left side\n",
        "    for i in range(grid_size):\n",
        "      new_grid[i+1][0] = grid[i][0]\n",
        "\n",
        "    # right side\n",
        "    for i in range(grid_size):\n",
        "      new_grid[i+1][n_size-1] = grid[i][grid_size-1]\n",
        "\n",
        "    # corners\n",
        "    new_grid[0][0] = grid[0][0]\n",
        "    new_grid[0][n_size-1] = grid[0][grid_size-1]\n",
        "    new_grid[n_size-1][0] = grid[grid_size-1][0]\n",
        "    new_grid[n_size-1][n_size-1] = grid[grid_size-1][grid_size-1]\n",
        "\n",
        "  else:\n",
        "    return None\n",
        "\n",
        "  return new_grid"
      ],
      "metadata": {
        "id": "95yAzNrJlTgw"
      },
      "execution_count": 5,
      "outputs": []
    },
    {
      "cell_type": "code",
      "source": [
        "def mask_init(mask_size):\n",
        "\n",
        "  mask = [[1/(mask_size*mask_size) for _ in range(mask_size)] for _ in range(mask_size)]\n",
        "  return mask"
      ],
      "metadata": {
        "id": "OTgb0fvU2zJz"
      },
      "execution_count": 6,
      "outputs": []
    },
    {
      "cell_type": "code",
      "source": [
        "def apply_mask(grid, mask):\n",
        "    grid_size = len(grid)\n",
        "    mask_size = len(mask)\n",
        "    m, n = grid_size, grid_size  # Number of rows and columns\n",
        "    out_grid = [[0 for _ in range(n)] for _ in range(m)]\n",
        "\n",
        "    # for i in range(1, m - 1):\n",
        "    #     for j in range(1, n - 1):\n",
        "    #         tmp = (grid[i - 1][j - 1] * mask[0][0] +\n",
        "    #                  grid[i - 1][j] * mask[0][1] +\n",
        "    #                  grid[i - 1][j + 1] * mask[0][2] +\n",
        "    #                  grid[i][j - 1] * mask[1][0] +\n",
        "    #                  grid[i][j] * mask[1][1] +\n",
        "    #                  grid[i][j + 1] * mask[1][2] +\n",
        "    #                  grid[i + 1][j - 1] * mask[2][0] +\n",
        "    #                  grid[i + 1][j] * mask[2][1] +\n",
        "    #                  grid[i + 1][j + 1] * mask[2][2])\n",
        "\n",
        "    #         out_grid[i][j] = int(tmp)\n",
        "\n",
        "\n",
        "    padd_size = mask_size // 2\n",
        "    for i in range(padd_size, grid_size - padd_size):\n",
        "        for j in range(padd_size, grid_size - padd_size):\n",
        "            # print(i,j)\n",
        "            tmp = 0\n",
        "            for mi in range(-padd_size, padd_size+1):\n",
        "                for mj in range(-padd_size, padd_size+1):\n",
        "                    tmp += grid[i + mi][j + mj] * mask[padd_size+mi][padd_size+mj]\n",
        "\n",
        "            out_grid[i][j] = int(tmp)\n",
        "\n",
        "    return out_grid"
      ],
      "metadata": {
        "id": "Q2bGBRoR5Hw8"
      },
      "execution_count": 7,
      "outputs": []
    },
    {
      "cell_type": "code",
      "source": [
        "def display(grid):\n",
        "  for row in grid:\n",
        "    print(row)\n",
        "\n",
        "  return None"
      ],
      "metadata": {
        "id": "eeX5yAftEkfb"
      },
      "execution_count": 8,
      "outputs": []
    },
    {
      "cell_type": "code",
      "source": [
        "def main():\n",
        "\n",
        "  grid_size, mask_size = size()\n",
        "  mask = mask_init(mask_size)\n",
        "  print(\"mask : \")\n",
        "  display(mask)\n",
        "\n",
        "  random = input(\"init the grid randomly? (y/n): \")\n",
        "\n",
        "  if random==\"y\":\n",
        "    grid = random_init(grid_size)\n",
        "  else:\n",
        "    grid = user_init(grid_size)\n",
        "\n",
        "  print(\"input grid : \")\n",
        "  display(grid)\n",
        "\n",
        "  m = input(\"pad new grid using? (w = white boundry / b = black boundry / n = neighour boundry): \")\n",
        "  if mask_size == 1:\n",
        "    pad_grid = grid\n",
        "  else:\n",
        "      if m==\"w\":\n",
        "        pad_grid = n_grid(grid,mask_size,m)\n",
        "      elif m==\"b\":\n",
        "        pad_grid = n_grid(grid,mask_size,m)\n",
        "      else:\n",
        "        pad_grid = n_grid(grid,mask_size,m)\n",
        "\n",
        "  print(\"padded grid : \")\n",
        "  display(pad_grid)\n",
        "\n",
        "  new_grid = apply_mask(pad_grid, mask)\n",
        "  print(\"output grid : \")\n",
        "  display(new_grid)\n",
        "  # print(\"*\"*10)\n",
        "\n",
        "  # return new_grid"
      ],
      "metadata": {
        "id": "mdQ-y8nFYerA"
      },
      "execution_count": 9,
      "outputs": []
    },
    {
      "cell_type": "code",
      "source": [
        "main()"
      ],
      "metadata": {
        "colab": {
          "base_uri": "https://localhost:8080/"
        },
        "id": "vdLusFX0m3cn",
        "outputId": "448f84bd-14e4-483e-c8d5-667b30104c6f"
      },
      "execution_count": 12,
      "outputs": [
        {
          "output_type": "stream",
          "name": "stdout",
          "text": [
            "Enter the grid size : 3\n",
            "Enter the mask size (must be odd): 3\n",
            "mask : \n",
            "[0.1111111111111111, 0.1111111111111111, 0.1111111111111111]\n",
            "[0.1111111111111111, 0.1111111111111111, 0.1111111111111111]\n",
            "[0.1111111111111111, 0.1111111111111111, 0.1111111111111111]\n",
            "init the grid randomly? (y/n): n\n",
            "Enter value for index [0][0] : 104\n",
            "Enter value for index [0][1] : 100\n",
            "Enter value for index [0][2] : 108\n",
            "Enter value for index [1][0] : 99\n",
            "Enter value for index [1][1] : 106\n",
            "Enter value for index [1][2] : 98\n",
            "Enter value for index [2][0] : 95\n",
            "Enter value for index [2][1] : 90\n",
            "Enter value for index [2][2] : 85\n",
            "input grid : \n",
            "[104, 100, 108]\n",
            "[99, 106, 98]\n",
            "[95, 90, 85]\n",
            "pad new grid using? (w = white boundry / b = black boundry / n = neighour boundry): b\n",
            "padded grid : \n",
            "[0, 0, 0, 0, 0]\n",
            "[0, 104, 100, 108, 0]\n",
            "[0, 99, 106, 98, 0]\n",
            "[0, 95, 90, 85, 0]\n",
            "[0, 0, 0, 0, 0]\n",
            "output grid : \n",
            "[0, 0, 0, 0, 0]\n",
            "[0, 45, 68, 45, 0]\n",
            "[0, 66, 98, 65, 0]\n",
            "[0, 43, 63, 42, 0]\n",
            "[0, 0, 0, 0, 0]\n"
          ]
        }
      ]
    },
    {
      "cell_type": "code",
      "source": [
        "print('END')"
      ],
      "metadata": {
        "colab": {
          "base_uri": "https://localhost:8080/"
        },
        "id": "GEcbGlDAqDwq",
        "outputId": "fc3df9ce-c719-4ec9-f66c-d271abda73fd"
      },
      "execution_count": 11,
      "outputs": [
        {
          "output_type": "stream",
          "name": "stdout",
          "text": [
            "END\n"
          ]
        }
      ]
    }
  ]
}