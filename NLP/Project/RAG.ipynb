{
  "nbformat": 4,
  "nbformat_minor": 0,
  "metadata": {
    "colab": {
      "provenance": [],
      "authorship_tag": "ABX9TyMh/eB0XFsq9EvXkwugLbMS",
      "include_colab_link": true
    },
    "kernelspec": {
      "name": "python3",
      "display_name": "Python 3"
    },
    "language_info": {
      "name": "python"
    }
  },
  "cells": [
    {
      "cell_type": "markdown",
      "metadata": {
        "id": "view-in-github",
        "colab_type": "text"
      },
      "source": [
        "<a href=\"https://colab.research.google.com/github/WaliMuhammadAhmad/7thSemester/blob/main/NLP/Project/RAG.ipynb\" target=\"_parent\"><img src=\"https://colab.research.google.com/assets/colab-badge.svg\" alt=\"Open In Colab\"/></a>"
      ]
    },
    {
      "cell_type": "code",
      "execution_count": 1,
      "metadata": {
        "id": "qrin9AbZV3G8"
      },
      "outputs": [],
      "source": [
        "%pip install -qU langchain-mistralai tiktoken unstructured langchain_community jq langchain-core langgraph>0.2.27"
      ]
    },
    {
      "cell_type": "code",
      "source": [
        "import os\n",
        "import json\n",
        "import getpass\n",
        "import tiktoken\n",
        "from pathlib import Path\n",
        "from pprint import pprint\n",
        "from langchain_community.document_loaders import JSONLoader\n",
        "from langchain_community.document_loaders import DirectoryLoader\n",
        "from langchain_mistralai import ChatMistralAI\n",
        "from langchain_core.messages import HumanMessage\n",
        "from google.colab import userdata"
      ],
      "metadata": {
        "id": "wALHKEBLWykW"
      },
      "execution_count": 2,
      "outputs": []
    },
    {
      "cell_type": "code",
      "source": [
        "os.environ[\"LANGCHAIN_TRACING_V2\"] = \"true\"\n",
        "os.environ[\"LANGCHAIN_API_KEY\"] = userdata.get('LangSmith')\n",
        "os.environ[\"MISTRAL_API_KEY\"] = userdata.get('MistralAPI')\n",
        "os.environ[\"REDIS_CLIENT\"] = 'redis-17333.c278.us-east-1-4.ec2.redns.redis-cloud.com'"
      ],
      "metadata": {
        "id": "QWGEZyswWkYU"
      },
      "execution_count": 3,
      "outputs": []
    },
    {
      "cell_type": "code",
      "source": [
        "model = ChatMistralAI(model=\"mistral-large-latest\")"
      ],
      "metadata": {
        "id": "z56NxUdXXyJf"
      },
      "execution_count": 4,
      "outputs": []
    },
    {
      "cell_type": "code",
      "source": [
        "r= model.invoke([HumanMessage(content=\"Who are you?\")])\n",
        "r.content"
      ],
      "metadata": {
        "colab": {
          "base_uri": "https://localhost:8080/",
          "height": 35
        },
        "id": "Y0HUGlw4X6HO",
        "outputId": "69291bab-d2f3-4fee-8e2d-0135a733ec2c"
      },
      "execution_count": 5,
      "outputs": [
        {
          "output_type": "execute_result",
          "data": {
            "text/plain": [
              "'I am a language model trained by the Mistral AI team.'"
            ],
            "application/vnd.google.colaboratory.intrinsic+json": {
              "type": "string"
            }
          },
          "metadata": {},
          "execution_count": 5
        }
      ]
    },
    {
      "cell_type": "code",
      "source": [
        "r.response_metadata['token_usage']"
      ],
      "metadata": {
        "colab": {
          "base_uri": "https://localhost:8080/"
        },
        "id": "aFq-U6I0YArd",
        "outputId": "0cde8174-4c55-4dfb-e522-1f83f892451d"
      },
      "execution_count": 6,
      "outputs": [
        {
          "output_type": "execute_result",
          "data": {
            "text/plain": [
              "{'prompt_tokens': 7, 'total_tokens': 20, 'completion_tokens': 13}"
            ]
          },
          "metadata": {},
          "execution_count": 6
        }
      ]
    },
    {
      "cell_type": "code",
      "source": [
        "f = [file for file in os.listdir('./') if file.endswith('.json')]\n",
        "f"
      ],
      "metadata": {
        "colab": {
          "base_uri": "https://localhost:8080/"
        },
        "id": "r2JZzh43mife",
        "outputId": "ee9158c8-6e6a-4eab-a00a-d0b9c4bc1568"
      },
      "execution_count": 7,
      "outputs": [
        {
          "output_type": "execute_result",
          "data": {
            "text/plain": [
              "['Services.json',\n",
              " 'Location.json',\n",
              " 'Home.json',\n",
              " 'Verification and Tracking.json']"
            ]
          },
          "metadata": {},
          "execution_count": 7
        }
      ]
    },
    {
      "cell_type": "code",
      "source": [
        "file_path=os.path.join('./', f[0])\n",
        "data = json.loads(Path(file_path).read_text())"
      ],
      "metadata": {
        "id": "ReY9nQtnbFwj"
      },
      "execution_count": 8,
      "outputs": []
    },
    {
      "cell_type": "code",
      "source": [
        "pprint(data)"
      ],
      "metadata": {
        "id": "L2uDMzRSbLca",
        "colab": {
          "base_uri": "https://localhost:8080/"
        },
        "outputId": "e3e0557f-d73f-4d8f-a98d-89ed8c3e5f9e"
      },
      "execution_count": 9,
      "outputs": [
        {
          "output_type": "stream",
          "name": "stdout",
          "text": [
            "{'subcategories': [{'content': [{'delivery_method': 'کوریئر',\n",
            "                                 'description': 'با ہر کے ممالک جانے کے لیے، '\n",
            "                                                'باہر کے مختلف اداروں میں '\n",
            "                                                'ملازمت حاصل کرنے کےلیے اور '\n",
            "                                                'وطن بدلی کے لیے پولیس کریکٹر '\n",
            "                                                'سرٹیفیکیٹ کی ضرورت پڑتی ہے۔',\n",
            "                                 'notes': 'کریکٹر سرٹیفیکیٹ صرف امیدوار کے خود '\n",
            "                                          'آنے پر ہی جمع کرایا جاتا ہے۔ اگر '\n",
            "                                          'امیدوار ملک سے باہر ہو تو اس کی جگہ '\n",
            "                                          'رشتہ دار اختیار نامہ کے ساتھ '\n",
            "                                          'درخواست دے سکتا ہے۔',\n",
            "                                 'processing_fee': '500 روپے',\n",
            "                                 'processing_time': '5 سرکاری دن',\n",
            "                                 'required_documents': ['3 پاسپورٹ سایز تصاویر '\n",
            "                                                        '(ہلکے نیلے رنگ کا بیک '\n",
            "                                                        'گراوَنڈ، غیر مصدقہ)',\n",
            "                                                        'شناختی کارڈ اصلی',\n",
            "                                                        'شناختی کارڈ کی دو '\n",
            "                                                        'کاپیاں (گزیٹیڈ افسر '\n",
            "                                                        'سے مصدقہ)',\n",
            "                                                        'اصلی پاسپورٹ',\n",
            "                                                        'پاسپورٹ کی ایک کاپی '\n",
            "                                                        '(گزیٹیڈ افسر سے '\n",
            "                                                        'مصدقہ)',\n",
            "                                                        '50 روپیہ کا حلف نامہ '\n",
            "                                                        '(عہدیدار کمشنر سے '\n",
            "                                                        'تصدیق شدہ)',\n",
            "                                                        'اختیار نامہ (اگر '\n",
            "                                                        'درخواست دہندہ ملک سے '\n",
            "                                                        'باہر ہے)'],\n",
            "                                 'service_name': 'کریکٹر سرٹیفیکیٹ'},\n",
            "                                {'delivery_method': 'کوریئر',\n",
            "                                 'description': 'پاکستان کے مختلف اداروں میں '\n",
            "                                                'ملازمت کی درخواست کے لیے '\n",
            "                                                'پولیس ریکارڈ کی عمومی تصدیق '\n",
            "                                                'ضروری ہوتی ہے۔',\n",
            "                                 'processing_fee': '300 روپے',\n",
            "                                 'processing_time': '5 سرکاری دن',\n",
            "                                 'required_documents': ['اصلی شناختی کارڈ',\n",
            "                                                        'شناختی کارڈ کی دو '\n",
            "                                                        'کاپیاں'],\n",
            "                                 'service_name': 'پولیس ویریفیکیشن'},\n",
            "                                {'age_limits': {'ltv_rickshaw_commercial_tractor': '21 '\n",
            "                                                                                   'سال',\n",
            "                                                'motorcycle_car': '18 سال'},\n",
            "                                 'delivery_method': 'موقع پر',\n",
            "                                 'description': 'شہری کسی بھی پی کے ایم سے '\n",
            "                                                'لرنرز ڈرایئونگ لائسنس حاصل کر '\n",
            "                                                'سکتے ہیں۔',\n",
            "                                 'notes': 'لرنرز پرمٹ روزانہ جاری ہوتے ہیں اور '\n",
            "                                          'ان کی معیاد 2 مہینے ہوتی ہے۔',\n",
            "                                 'processing_fee': '60 روپے',\n",
            "                                 'processing_time': '15 منٹ',\n",
            "                                 'required_documents': ['اصلی شناختی کارڈ بمع '\n",
            "                                                        'ایک کاپی',\n",
            "                                                        'ٹریفک قوایئد و قوانین '\n",
            "                                                        'کی کتاب',\n",
            "                                                        'میڈیکل سرٹیفیکیٹ (50 '\n",
            "                                                        'سال سے بڑے امیدواروں '\n",
            "                                                        'کے لیے)'],\n",
            "                                 'service_name': 'لرنرز ڈرایئونگ لائسنس'},\n",
            "                                {'delivery_method': 'کوریئر',\n",
            "                                 'description': 'شہری پولیس خدمت مرکز سے '\n",
            "                                                'ڈرایئونگ لائسنس کی تجدید کے '\n",
            "                                                'لئے درخواست جمع کروا سکتے '\n",
            "                                                'ہیں۔',\n",
            "                                 'processing_fee': {'car_ltv': '750 روپے',\n",
            "                                                    'htv': '2000 روپے',\n",
            "                                                    'motorcycle_rickshaw': '500 '\n",
            "                                                                           'روپے'},\n",
            "                                 'processing_time': '5 سرکاری دن',\n",
            "                                 'required_documents': ['ضروری درخواست فارم ای '\n",
            "                                                        'فایئل کور کے ساتھ',\n",
            "                                                        '2 عدد پاسپورٹ سایئز '\n",
            "                                                        'تصویریں',\n",
            "                                                        'شناختی کارڈ کی کاپی',\n",
            "                                                        'اصلی ڈرایئونگ لائسنس',\n",
            "                                                        'میڈیکل سرٹیفیکیٹ (50 '\n",
            "                                                        'سال سے بڑے امیدواروں '\n",
            "                                                        'کے لیے)',\n",
            "                                                        'متعلقہ لائسنس کا ٹکٹ'],\n",
            "                                 'service_name': 'ڈرایئونگ لائسنس کی تجدید'},\n",
            "                                {'delivery_method': 'کوریئر',\n",
            "                                 'description': 'شہری پولیس خدمت مرکز سے بین '\n",
            "                                                'الاقوامی ڈرایئونگ لائسنس '\n",
            "                                                'کےلئے درخواست جمع کروا سکتے '\n",
            "                                                'ہیں۔',\n",
            "                                 'notes': 'درخواست دہندہ اپنا اصلی شناختی '\n",
            "                                          'کارڈ، ڈرایئونگ لائسنس اور پاسپورٹ '\n",
            "                                          'ساتھ لاےَ گا/گی۔',\n",
            "                                 'processing_fee': {'challan': '450 روپے',\n",
            "                                                    'court': '66 روپے'},\n",
            "                                 'processing_time': '5 سرکاری دن',\n",
            "                                 'required_documents': ['بین الاقوامی درخواست '\n",
            "                                                        'فارم فایئل کور کے '\n",
            "                                                        'ساتھ',\n",
            "                                                        'شناختی کارڈ کی تصدیق '\n",
            "                                                        'شدہ کاپی',\n",
            "                                                        'لاہور سے حاصل کردہ '\n",
            "                                                        'اصلی ڈرایئونگ لائسنس '\n",
            "                                                        'کی کاپی',\n",
            "                                                        'پاکستانی پاسپورٹ کی '\n",
            "                                                        'کاپی بمع 2 مہینہ کا '\n",
            "                                                        'ویزا',\n",
            "                                                        '2 عدد پاسپورٹ سایئز '\n",
            "                                                        'تصویریں (تصدیق شدہ)'],\n",
            "                                 'service_name': 'بین الاقوامی ڈرایئونگ '\n",
            "                                                 'لائسنس'},\n",
            "                                {'delivery_method': 'کوریئر',\n",
            "                                 'description': 'شہری پولیس خدمت مرکز سے نقل '\n",
            "                                                'ڈرایئونگ لائسنس کےلئے درخواست '\n",
            "                                                'جمع کروا سکتے ہیں۔',\n",
            "                                 'processing_fee': {'car_ltv': '300 روپے',\n",
            "                                                    'htv': '200 روپے',\n",
            "                                                    'motorcycle': '100 روپے'},\n",
            "                                 'processing_time': '5 سرکاری دن',\n",
            "                                 'required_documents': ['ضروری نقل درخواست '\n",
            "                                                        'فارم',\n",
            "                                                        'شناختی کارڈ کی تصدیق '\n",
            "                                                        'شدہ کاپی',\n",
            "                                                        '2 عدد پاسپورٹ سایئز '\n",
            "                                                        'تصویریں',\n",
            "                                                        'کمپیوٹر سیکشن سے '\n",
            "                                                        'کمپیوٹرائزڈ لائسنس '\n",
            "                                                        'رپورٹ',\n",
            "                                                        'پولیس ایف آیَ آر',\n",
            "                                                        'متعلقہ لائسنس کا ٹکٹ'],\n",
            "                                 'service_name': 'نقل ڈرایئونگ لائسنس'},\n",
            "                                {'delivery_method': 'موقع پر',\n",
            "                                 'description': 'کسی بھی گھریلو یا دیگر ملازم '\n",
            "                                                'کو نوکری پر رکھتے وقت اس کا '\n",
            "                                                'اندراج قریبی پولیس تھانے میں '\n",
            "                                                'کروانا ہوتا ہے۔',\n",
            "                                 'processing_fee': 'مفت',\n",
            "                                 'processing_time': '15 منٹ',\n",
            "                                 'required_documents': ['درخواست دہندہ کا اصلی '\n",
            "                                                        'شناختی کارڈ بمع 2 '\n",
            "                                                        'کاپیاں',\n",
            "                                                        'ملازم کے شناختی کارڈ '\n",
            "                                                        'کی 2 کاپیاں',\n",
            "                                                        'ملازم کی 2 عدد '\n",
            "                                                        'پاسپورٹ سایئز تصاویر',\n",
            "                                                        'ایفیڈوڈ بمع 2 گواہوں '\n",
            "                                                        'کی تصدیق'],\n",
            "                                 'service_name': 'ملازم کی رجسٹریشن'},\n",
            "                                {'delivery_method': 'موقع پر',\n",
            "                                 'description': 'گھر یا ہاسٹل کراےَ پر دینے کے '\n",
            "                                                'لیے پولیس تھانے یا خدمت مرکز '\n",
            "                                                'میں رجسٹریشن کرانا ضروری ہے۔',\n",
            "                                 'processing_fee': 'مفت',\n",
            "                                 'processing_time': '15 منٹ',\n",
            "                                 'required_documents': ['مالک مکان کا شناختی '\n",
            "                                                        'کارڈ اور ایک کاپی',\n",
            "                                                        'کراےَ دار کا شناختی '\n",
            "                                                        'کارڈ اور ایک کاپی',\n",
            "                                                        'شٹامپ پیپر پر کراےَ '\n",
            "                                                        'کے معاہدہ کی کاپی'],\n",
            "                                 'service_name': 'کراےَ دار کی رجسٹریشن'},\n",
            "                                {'delivery_method': 'موقع پر',\n",
            "                                 'description': 'گاڑی کی خرید و فروخت یا نقل و '\n",
            "                                                'حمل سے قبل گاڑی کی تصدیق '\n",
            "                                                'ضروری ہے۔',\n",
            "                                 'processing_fee': {'car_ltv_htv': '2000 روپے',\n",
            "                                                    'motorcycle': '500 روپے'},\n",
            "                                 'processing_time': '30 منٹ',\n",
            "                                 'required_documents': ['شناختی کارڈ بمع دو '\n",
            "                                                        'کاپیاں',\n",
            "                                                        'گاڑی کے اصل کاغذات '\n",
            "                                                        'اور ایک کاپی',\n",
            "                                                        'گاڑی کے مالک کا '\n",
            "                                                        'کمپیوٹرائزڈ شناختی '\n",
            "                                                        'کارڈ',\n",
            "                                                        'این او سی اگر گاڑی '\n",
            "                                                        'بینک کے نام پر ہے',\n",
            "                                                        'ٹی پی میسج اور '\n",
            "                                                        'ٹرانسفر کاغذات اگر '\n",
            "                                                        'گاڑی بر آمد کی گیَ '\n",
            "                                                        'ہے'],\n",
            "                                 'service_name': 'گاڑی کی تصدیق'},\n",
            "                                {'delivery_method': 'موقع پر',\n",
            "                                 'description': 'شہری پولیس خدمت مرکز سے '\n",
            "                                                'ڈرایئونگ لائسنس کی توثیق کے '\n",
            "                                                'لئے درخواست جمع کروا سکتے '\n",
            "                                                'ہیں۔',\n",
            "                                 'notes': 'مزید تفصیل کے لئے برائے مہربانی '\n",
            "                                          'ٹریفک پولیس انکوائری آفس سے رابطہ '\n",
            "                                          'کریں۔',\n",
            "                                 'processing_fee': 'مفت',\n",
            "                                 'processing_time': '15 منٹ',\n",
            "                                 'required_documents': ['ضروری درخواست فارم '\n",
            "                                                        'توثیق فایئل کور کے '\n",
            "                                                        'ساتھ',\n",
            "                                                        'میڈیکل رپورٹ',\n",
            "                                                        'شناختی کارڈ کی کاپی',\n",
            "                                                        '2 مصدقہ تازہ تصاویر',\n",
            "                                                        'کم سے کم چھ ہفتے کا '\n",
            "                                                        'حقیقی لرنر پرمٹ',\n",
            "                                                        'متعلقہ لائسنس کا ٹکٹ',\n",
            "                                                        'پہلا لائسنس منسلک کیا '\n",
            "                                                        'جائے گا'],\n",
            "                                 'service_name': 'ڈرائیونگ لائسنس کی توثیق'},\n",
            "                                {'delivery_method': 'موقع پر',\n",
            "                                 'description': 'ضروری کاغذات جیسے شناختی '\n",
            "                                                'کارڈ، ڈرایئونگ لائسنس، '\n",
            "                                                'اے۔ٹی۔ایم۔ کارڈ، تعلیمی '\n",
            "                                                'کاغذات اور دوسری اشیاء اکثر '\n",
            "                                                'گم یا چوری ہو جاتی ہیں۔',\n",
            "                                 'processing_fee': 'مفت',\n",
            "                                 'processing_time': '15 منٹ',\n",
            "                                 'required_documents': ['درخواست دہندہ کا اصلی '\n",
            "                                                        'شناختی کارڈ بمع 2 '\n",
            "                                                        'کاپیاں',\n",
            "                                                        'گمشدہ دستاویزات کی '\n",
            "                                                        'کاپی اگر موجود ہو',\n",
            "                                                        'کسی بھی امدادی '\n",
            "                                                        'دستاویز کی کاپی'],\n",
            "                                 'service_name': 'گمشدگی رپورٹ'},\n",
            "                                {'delivery_method': 'موقع پر',\n",
            "                                 'description': 'پولیس خدمت مرکز کسی بھی جرم '\n",
            "                                                'کی رپورٹ درج کرانے کی سہولت '\n",
            "                                                'فراہم کرتا ہے۔',\n",
            "                                 'processing_fee': 'مفت',\n",
            "                                 'processing_time': '15 منٹ',\n",
            "                                 'required_documents': ['درخواست دہندہ کا اصلی '\n",
            "                                                        'شناختی کارڈ اور 2 '\n",
            "                                                        'کاپیاں',\n",
            "                                                        'درخواست دہندہ کی '\n",
            "                                                        'تحریری درخواست اگر '\n",
            "                                                        'موجود ہو'],\n",
            "                                 'service_name': 'جرائم رپورٹ'},\n",
            "                                {'delivery_method': 'موقع پر',\n",
            "                                 'description': 'پولیس خدمت مرکز خواتین پر '\n",
            "                                                'ہونے والے تشدد کی شکایات کے '\n",
            "                                                'اندراج اور قانونی معاونت '\n",
            "                                                'فراہم کرتا ہے۔',\n",
            "                                 'processing_fee': 'مفت',\n",
            "                                 'processing_time': '15 منٹ',\n",
            "                                 'required_documents': ['درخواست دہندہ کا اصلی '\n",
            "                                                        'شناختی کارڈ اور 2 '\n",
            "                                                        'کاپیاں',\n",
            "                                                        'درخواست دہندہ کی '\n",
            "                                                        'تحریری درخواست اگر '\n",
            "                                                        'موجود ہو'],\n",
            "                                 'service_name': 'خواتین پر تشدد رپورٹ'},\n",
            "                                {'delivery_method': 'موقع پر',\n",
            "                                 'description': 'شہری کسی بھی پی کے ایم سے '\n",
            "                                                'اپنی بنیادی معلومات فراہم کر '\n",
            "                                                'کے ایف آئی آر کی کاپی حاصل کر '\n",
            "                                                'سکتے ہیں۔',\n",
            "                                 'processing_fee': 'مفت',\n",
            "                                 'processing_time': '15 منٹ',\n",
            "                                 'required_documents': ['درخواست دہندہ کا اصلی '\n",
            "                                                        'شناختی کارڈ بمع 2 '\n",
            "                                                        'کاپیاں',\n",
            "                                                        'ایف آیَ آر حاصل کرنے '\n",
            "                                                        'کی وجہ',\n",
            "                                                        'ایف آیَ آر نمبر اور '\n",
            "                                                        'پولیس تھانہ'],\n",
            "                                 'service_name': 'ایف۔آئ۔آر۔کی کاپی'}],\n",
            "                    'subcategory': 'Services'}],\n",
            " 'title': 'PKM Punjab'}\n"
          ]
        }
      ]
    },
    {
      "cell_type": "code",
      "source": [
        "# loader = DirectoryLoader(\n",
        "#     path='./',\n",
        "#     glob=\"*.json\",\n",
        "#     loader_cls=JSONLoader,\n",
        "#     loader_kwargs={\n",
        "#         \"jq_schema\": \".subcategories[]\",\n",
        "#         \"content_key\": \".content\",\n",
        "#         \"text_content\": False,\n",
        "#     },\n",
        "#     show_progress=True)"
      ],
      "metadata": {
        "id": "mJjvghD9zbb6"
      },
      "execution_count": 10,
      "outputs": []
    },
    {
      "cell_type": "code",
      "source": [
        "# doc = loader.load()\n",
        "# doc"
      ],
      "metadata": {
        "id": "rd4NAT5ezqaQ"
      },
      "execution_count": 11,
      "outputs": []
    },
    {
      "cell_type": "code",
      "source": [
        "loader = JSONLoader(\n",
        "    file_path=os.path.join('./', f[0]),\n",
        "    jq_schema=\".subcategories[]\",\n",
        "    content_key=\".content\",\n",
        "    is_content_key_jq_parsable=True,\n",
        "    text_content=False)\n",
        "\n",
        "doc = loader.load()\n",
        "# doc"
      ],
      "metadata": {
        "id": "BW20c1NTZunw"
      },
      "execution_count": 12,
      "outputs": []
    },
    {
      "cell_type": "code",
      "source": [
        "# doc"
      ],
      "metadata": {
        "id": "CsaxtAkQc1Ne"
      },
      "execution_count": 60,
      "outputs": []
    },
    {
      "cell_type": "markdown",
      "source": [
        "# redis"
      ],
      "metadata": {
        "id": "2G6dO261_q8q"
      }
    },
    {
      "cell_type": "code",
      "source": [
        "# !pip install redis"
      ],
      "metadata": {
        "id": "MA7RGFNieoJV",
        "colab": {
          "base_uri": "https://localhost:8080/"
        },
        "outputId": "53461b7c-caf3-4d9e-c03c-9fb915aaf1e0"
      },
      "execution_count": 14,
      "outputs": [
        {
          "output_type": "stream",
          "name": "stdout",
          "text": [
            "Collecting redis\n",
            "  Downloading redis-5.2.1-py3-none-any.whl.metadata (9.1 kB)\n",
            "Requirement already satisfied: async-timeout>=4.0.3 in /usr/local/lib/python3.10/dist-packages (from redis) (4.0.3)\n",
            "Downloading redis-5.2.1-py3-none-any.whl (261 kB)\n",
            "\u001b[2K   \u001b[90m━━━━━━━━━━━━━━━━━━━━━━━━━━━━━━━━━━━━━━━━\u001b[0m \u001b[32m261.5/261.5 kB\u001b[0m \u001b[31m4.6 MB/s\u001b[0m eta \u001b[36m0:00:00\u001b[0m\n",
            "\u001b[?25hInstalling collected packages: redis\n",
            "Successfully installed redis-5.2.1\n"
          ]
        }
      ]
    },
    {
      "cell_type": "code",
      "source": [
        "# import redis\n",
        "\n",
        "# r = redis.Redis(\n",
        "#     host='redis-17333.c278.us-east-1-4.ec2.redns.redis-cloud.com',\n",
        "#     port=17333,\n",
        "#     decode_responses=True,\n",
        "#     username=\"default\",\n",
        "#     password=userdata.get('redis'),\n",
        "# )\n",
        "\n",
        "# result = r.get('foo')\n",
        "# print(result)\n",
        "# bar\n",
        "\n"
      ],
      "metadata": {
        "colab": {
          "base_uri": "https://localhost:8080/"
        },
        "id": "g6K-F28I2Hvi",
        "outputId": "b8293d60-9c30-45ac-aadb-1fe39e5d67a7"
      },
      "execution_count": 15,
      "outputs": [
        {
          "output_type": "stream",
          "name": "stdout",
          "text": [
            "bar\n"
          ]
        }
      ]
    },
    {
      "cell_type": "markdown",
      "source": [
        "# (or) chroma"
      ],
      "metadata": {
        "id": "kEP7-aPl6qyH"
      }
    },
    {
      "cell_type": "code",
      "source": [
        "!pip install chromadb langchain-chroma"
      ],
      "metadata": {
        "colab": {
          "base_uri": "https://localhost:8080/"
        },
        "id": "mnSDtvpj4CLr",
        "outputId": "e7dffe47-a167-45f6-b4ba-f60d324715e9"
      },
      "execution_count": 16,
      "outputs": [
        {
          "output_type": "stream",
          "name": "stdout",
          "text": [
            "Collecting chromadb\n",
            "  Downloading chromadb-0.5.23-py3-none-any.whl.metadata (6.8 kB)\n",
            "Collecting langchain-chroma\n",
            "  Downloading langchain_chroma-0.1.4-py3-none-any.whl.metadata (1.6 kB)\n",
            "Collecting build>=1.0.3 (from chromadb)\n",
            "  Downloading build-1.2.2.post1-py3-none-any.whl.metadata (6.5 kB)\n",
            "Requirement already satisfied: pydantic>=1.9 in /usr/local/lib/python3.10/dist-packages (from chromadb) (2.9.2)\n",
            "Collecting chroma-hnswlib==0.7.6 (from chromadb)\n",
            "  Downloading chroma_hnswlib-0.7.6-cp310-cp310-manylinux_2_17_x86_64.manylinux2014_x86_64.whl.metadata (252 bytes)\n",
            "Collecting fastapi>=0.95.2 (from chromadb)\n",
            "  Downloading fastapi-0.115.6-py3-none-any.whl.metadata (27 kB)\n",
            "Collecting uvicorn>=0.18.3 (from uvicorn[standard]>=0.18.3->chromadb)\n",
            "  Downloading uvicorn-0.32.1-py3-none-any.whl.metadata (6.6 kB)\n",
            "Requirement already satisfied: numpy>=1.22.5 in /usr/local/lib/python3.10/dist-packages (from chromadb) (1.26.4)\n",
            "Collecting posthog>=2.4.0 (from chromadb)\n",
            "  Downloading posthog-3.7.4-py2.py3-none-any.whl.metadata (2.0 kB)\n",
            "Requirement already satisfied: typing_extensions>=4.5.0 in /usr/local/lib/python3.10/dist-packages (from chromadb) (4.12.2)\n",
            "Collecting onnxruntime>=1.14.1 (from chromadb)\n",
            "  Downloading onnxruntime-1.20.1-cp310-cp310-manylinux_2_27_x86_64.manylinux_2_28_x86_64.whl.metadata (4.5 kB)\n",
            "Requirement already satisfied: opentelemetry-api>=1.2.0 in /usr/local/lib/python3.10/dist-packages (from chromadb) (1.28.2)\n",
            "Collecting opentelemetry-exporter-otlp-proto-grpc>=1.2.0 (from chromadb)\n",
            "  Downloading opentelemetry_exporter_otlp_proto_grpc-1.28.2-py3-none-any.whl.metadata (2.2 kB)\n",
            "Collecting opentelemetry-instrumentation-fastapi>=0.41b0 (from chromadb)\n",
            "  Downloading opentelemetry_instrumentation_fastapi-0.49b2-py3-none-any.whl.metadata (2.1 kB)\n",
            "Requirement already satisfied: opentelemetry-sdk>=1.2.0 in /usr/local/lib/python3.10/dist-packages (from chromadb) (1.28.2)\n",
            "Requirement already satisfied: tokenizers<=0.20.3,>=0.13.2 in /usr/local/lib/python3.10/dist-packages (from chromadb) (0.20.3)\n",
            "Collecting pypika>=0.48.9 (from chromadb)\n",
            "  Downloading PyPika-0.48.9.tar.gz (67 kB)\n",
            "\u001b[2K     \u001b[90m━━━━━━━━━━━━━━━━━━━━━━━━━━━━━━━━━━━━━━━━\u001b[0m \u001b[32m67.3/67.3 kB\u001b[0m \u001b[31m3.4 MB/s\u001b[0m eta \u001b[36m0:00:00\u001b[0m\n",
            "\u001b[?25h  Installing build dependencies ... \u001b[?25l\u001b[?25hdone\n",
            "  Getting requirements to build wheel ... \u001b[?25l\u001b[?25hdone\n",
            "  Preparing metadata (pyproject.toml) ... \u001b[?25l\u001b[?25hdone\n",
            "Requirement already satisfied: tqdm>=4.65.0 in /usr/local/lib/python3.10/dist-packages (from chromadb) (4.66.6)\n",
            "Collecting overrides>=7.3.1 (from chromadb)\n",
            "  Downloading overrides-7.7.0-py3-none-any.whl.metadata (5.8 kB)\n",
            "Requirement already satisfied: importlib-resources in /usr/local/lib/python3.10/dist-packages (from chromadb) (6.4.5)\n",
            "Requirement already satisfied: grpcio>=1.58.0 in /usr/local/lib/python3.10/dist-packages (from chromadb) (1.68.1)\n",
            "Collecting bcrypt>=4.0.1 (from chromadb)\n",
            "  Downloading bcrypt-4.2.1-cp39-abi3-manylinux_2_28_x86_64.whl.metadata (9.8 kB)\n",
            "Requirement already satisfied: typer>=0.9.0 in /usr/local/lib/python3.10/dist-packages (from chromadb) (0.15.0)\n",
            "Collecting kubernetes>=28.1.0 (from chromadb)\n",
            "  Downloading kubernetes-31.0.0-py2.py3-none-any.whl.metadata (1.5 kB)\n",
            "Requirement already satisfied: tenacity>=8.2.3 in /usr/local/lib/python3.10/dist-packages (from chromadb) (9.0.0)\n",
            "Requirement already satisfied: PyYAML>=6.0.0 in /usr/local/lib/python3.10/dist-packages (from chromadb) (6.0.2)\n",
            "Collecting mmh3>=4.0.1 (from chromadb)\n",
            "  Downloading mmh3-5.0.1-cp310-cp310-manylinux_2_5_x86_64.manylinux1_x86_64.manylinux_2_17_x86_64.manylinux2014_x86_64.whl.metadata (14 kB)\n",
            "Requirement already satisfied: orjson>=3.9.12 in /usr/local/lib/python3.10/dist-packages (from chromadb) (3.10.12)\n",
            "Requirement already satisfied: httpx>=0.27.0 in /usr/local/lib/python3.10/dist-packages (from chromadb) (0.28.0)\n",
            "Requirement already satisfied: rich>=10.11.0 in /usr/local/lib/python3.10/dist-packages (from chromadb) (13.9.4)\n",
            "Requirement already satisfied: langchain-core<0.4,>=0.1.40 in /usr/local/lib/python3.10/dist-packages (from langchain-chroma) (0.3.22)\n",
            "Requirement already satisfied: packaging>=19.1 in /usr/local/lib/python3.10/dist-packages (from build>=1.0.3->chromadb) (24.2)\n",
            "Collecting pyproject_hooks (from build>=1.0.3->chromadb)\n",
            "  Downloading pyproject_hooks-1.2.0-py3-none-any.whl.metadata (1.3 kB)\n",
            "Requirement already satisfied: tomli>=1.1.0 in /usr/local/lib/python3.10/dist-packages (from build>=1.0.3->chromadb) (2.2.1)\n",
            "Collecting starlette<0.42.0,>=0.40.0 (from fastapi>=0.95.2->chromadb)\n",
            "  Downloading starlette-0.41.3-py3-none-any.whl.metadata (6.0 kB)\n",
            "Requirement already satisfied: anyio in /usr/local/lib/python3.10/dist-packages (from httpx>=0.27.0->chromadb) (3.7.1)\n",
            "Requirement already satisfied: certifi in /usr/local/lib/python3.10/dist-packages (from httpx>=0.27.0->chromadb) (2024.8.30)\n",
            "Requirement already satisfied: httpcore==1.* in /usr/local/lib/python3.10/dist-packages (from httpx>=0.27.0->chromadb) (1.0.7)\n",
            "Requirement already satisfied: idna in /usr/local/lib/python3.10/dist-packages (from httpx>=0.27.0->chromadb) (3.10)\n",
            "Requirement already satisfied: h11<0.15,>=0.13 in /usr/local/lib/python3.10/dist-packages (from httpcore==1.*->httpx>=0.27.0->chromadb) (0.14.0)\n",
            "Requirement already satisfied: six>=1.9.0 in /usr/local/lib/python3.10/dist-packages (from kubernetes>=28.1.0->chromadb) (1.16.0)\n",
            "Requirement already satisfied: python-dateutil>=2.5.3 in /usr/local/lib/python3.10/dist-packages (from kubernetes>=28.1.0->chromadb) (2.8.2)\n",
            "Requirement already satisfied: google-auth>=1.0.1 in /usr/local/lib/python3.10/dist-packages (from kubernetes>=28.1.0->chromadb) (2.27.0)\n",
            "Requirement already satisfied: websocket-client!=0.40.0,!=0.41.*,!=0.42.*,>=0.32.0 in /usr/local/lib/python3.10/dist-packages (from kubernetes>=28.1.0->chromadb) (1.8.0)\n",
            "Requirement already satisfied: requests in /usr/local/lib/python3.10/dist-packages (from kubernetes>=28.1.0->chromadb) (2.32.3)\n",
            "Requirement already satisfied: requests-oauthlib in /usr/local/lib/python3.10/dist-packages (from kubernetes>=28.1.0->chromadb) (1.3.1)\n",
            "Requirement already satisfied: oauthlib>=3.2.2 in /usr/local/lib/python3.10/dist-packages (from kubernetes>=28.1.0->chromadb) (3.2.2)\n",
            "Requirement already satisfied: urllib3>=1.24.2 in /usr/local/lib/python3.10/dist-packages (from kubernetes>=28.1.0->chromadb) (2.2.3)\n",
            "Collecting durationpy>=0.7 (from kubernetes>=28.1.0->chromadb)\n",
            "  Downloading durationpy-0.9-py3-none-any.whl.metadata (338 bytes)\n",
            "Requirement already satisfied: jsonpatch<2.0,>=1.33 in /usr/local/lib/python3.10/dist-packages (from langchain-core<0.4,>=0.1.40->langchain-chroma) (1.33)\n",
            "Requirement already satisfied: langsmith<0.2.0,>=0.1.125 in /usr/local/lib/python3.10/dist-packages (from langchain-core<0.4,>=0.1.40->langchain-chroma) (0.1.147)\n",
            "Collecting coloredlogs (from onnxruntime>=1.14.1->chromadb)\n",
            "  Downloading coloredlogs-15.0.1-py2.py3-none-any.whl.metadata (12 kB)\n",
            "Requirement already satisfied: flatbuffers in /usr/local/lib/python3.10/dist-packages (from onnxruntime>=1.14.1->chromadb) (24.3.25)\n",
            "Requirement already satisfied: protobuf in /usr/local/lib/python3.10/dist-packages (from onnxruntime>=1.14.1->chromadb) (4.25.5)\n",
            "Requirement already satisfied: sympy in /usr/local/lib/python3.10/dist-packages (from onnxruntime>=1.14.1->chromadb) (1.13.1)\n",
            "Requirement already satisfied: deprecated>=1.2.6 in /usr/local/lib/python3.10/dist-packages (from opentelemetry-api>=1.2.0->chromadb) (1.2.15)\n",
            "Requirement already satisfied: importlib-metadata<=8.5.0,>=6.0 in /usr/local/lib/python3.10/dist-packages (from opentelemetry-api>=1.2.0->chromadb) (8.5.0)\n",
            "Requirement already satisfied: googleapis-common-protos~=1.52 in /usr/local/lib/python3.10/dist-packages (from opentelemetry-exporter-otlp-proto-grpc>=1.2.0->chromadb) (1.66.0)\n",
            "Collecting opentelemetry-exporter-otlp-proto-common==1.28.2 (from opentelemetry-exporter-otlp-proto-grpc>=1.2.0->chromadb)\n",
            "  Downloading opentelemetry_exporter_otlp_proto_common-1.28.2-py3-none-any.whl.metadata (1.8 kB)\n",
            "Collecting opentelemetry-proto==1.28.2 (from opentelemetry-exporter-otlp-proto-grpc>=1.2.0->chromadb)\n",
            "  Downloading opentelemetry_proto-1.28.2-py3-none-any.whl.metadata (2.3 kB)\n",
            "Collecting protobuf (from onnxruntime>=1.14.1->chromadb)\n",
            "  Downloading protobuf-5.29.1-cp38-abi3-manylinux2014_x86_64.whl.metadata (592 bytes)\n",
            "Collecting opentelemetry-instrumentation-asgi==0.49b2 (from opentelemetry-instrumentation-fastapi>=0.41b0->chromadb)\n",
            "  Downloading opentelemetry_instrumentation_asgi-0.49b2-py3-none-any.whl.metadata (1.9 kB)\n",
            "Collecting opentelemetry-instrumentation==0.49b2 (from opentelemetry-instrumentation-fastapi>=0.41b0->chromadb)\n",
            "  Downloading opentelemetry_instrumentation-0.49b2-py3-none-any.whl.metadata (6.1 kB)\n",
            "Requirement already satisfied: opentelemetry-semantic-conventions==0.49b2 in /usr/local/lib/python3.10/dist-packages (from opentelemetry-instrumentation-fastapi>=0.41b0->chromadb) (0.49b2)\n",
            "Collecting opentelemetry-util-http==0.49b2 (from opentelemetry-instrumentation-fastapi>=0.41b0->chromadb)\n",
            "  Downloading opentelemetry_util_http-0.49b2-py3-none-any.whl.metadata (2.5 kB)\n",
            "Requirement already satisfied: wrapt<2.0.0,>=1.0.0 in /usr/local/lib/python3.10/dist-packages (from opentelemetry-instrumentation==0.49b2->opentelemetry-instrumentation-fastapi>=0.41b0->chromadb) (1.17.0)\n",
            "Collecting asgiref~=3.0 (from opentelemetry-instrumentation-asgi==0.49b2->opentelemetry-instrumentation-fastapi>=0.41b0->chromadb)\n",
            "  Downloading asgiref-3.8.1-py3-none-any.whl.metadata (9.3 kB)\n",
            "Collecting monotonic>=1.5 (from posthog>=2.4.0->chromadb)\n",
            "  Downloading monotonic-1.6-py2.py3-none-any.whl.metadata (1.5 kB)\n",
            "Requirement already satisfied: backoff>=1.10.0 in /usr/local/lib/python3.10/dist-packages (from posthog>=2.4.0->chromadb) (2.2.1)\n",
            "Requirement already satisfied: annotated-types>=0.6.0 in /usr/local/lib/python3.10/dist-packages (from pydantic>=1.9->chromadb) (0.7.0)\n",
            "Requirement already satisfied: pydantic-core==2.23.4 in /usr/local/lib/python3.10/dist-packages (from pydantic>=1.9->chromadb) (2.23.4)\n",
            "Requirement already satisfied: markdown-it-py>=2.2.0 in /usr/local/lib/python3.10/dist-packages (from rich>=10.11.0->chromadb) (3.0.0)\n",
            "Requirement already satisfied: pygments<3.0.0,>=2.13.0 in /usr/local/lib/python3.10/dist-packages (from rich>=10.11.0->chromadb) (2.18.0)\n",
            "Requirement already satisfied: huggingface-hub<1.0,>=0.16.4 in /usr/local/lib/python3.10/dist-packages (from tokenizers<=0.20.3,>=0.13.2->chromadb) (0.26.3)\n",
            "Requirement already satisfied: click>=8.0.0 in /usr/local/lib/python3.10/dist-packages (from typer>=0.9.0->chromadb) (8.1.7)\n",
            "Requirement already satisfied: shellingham>=1.3.0 in /usr/local/lib/python3.10/dist-packages (from typer>=0.9.0->chromadb) (1.5.4)\n",
            "Collecting httptools>=0.6.3 (from uvicorn[standard]>=0.18.3->chromadb)\n",
            "  Downloading httptools-0.6.4-cp310-cp310-manylinux_2_5_x86_64.manylinux1_x86_64.manylinux_2_17_x86_64.manylinux2014_x86_64.whl.metadata (3.6 kB)\n",
            "Requirement already satisfied: python-dotenv>=0.13 in /usr/local/lib/python3.10/dist-packages (from uvicorn[standard]>=0.18.3->chromadb) (1.0.1)\n",
            "Collecting uvloop!=0.15.0,!=0.15.1,>=0.14.0 (from uvicorn[standard]>=0.18.3->chromadb)\n",
            "  Downloading uvloop-0.21.0-cp310-cp310-manylinux_2_17_x86_64.manylinux2014_x86_64.whl.metadata (4.9 kB)\n",
            "Collecting watchfiles>=0.13 (from uvicorn[standard]>=0.18.3->chromadb)\n",
            "  Downloading watchfiles-1.0.0-cp310-cp310-manylinux_2_17_x86_64.manylinux2014_x86_64.whl.metadata (4.9 kB)\n",
            "Collecting websockets>=10.4 (from uvicorn[standard]>=0.18.3->chromadb)\n",
            "  Downloading websockets-14.1-cp310-cp310-manylinux_2_5_x86_64.manylinux1_x86_64.manylinux_2_17_x86_64.manylinux2014_x86_64.whl.metadata (6.7 kB)\n",
            "Requirement already satisfied: cachetools<6.0,>=2.0.0 in /usr/local/lib/python3.10/dist-packages (from google-auth>=1.0.1->kubernetes>=28.1.0->chromadb) (5.5.0)\n",
            "Requirement already satisfied: pyasn1-modules>=0.2.1 in /usr/local/lib/python3.10/dist-packages (from google-auth>=1.0.1->kubernetes>=28.1.0->chromadb) (0.4.1)\n",
            "Requirement already satisfied: rsa<5,>=3.1.4 in /usr/local/lib/python3.10/dist-packages (from google-auth>=1.0.1->kubernetes>=28.1.0->chromadb) (4.9)\n",
            "Requirement already satisfied: filelock in /usr/local/lib/python3.10/dist-packages (from huggingface-hub<1.0,>=0.16.4->tokenizers<=0.20.3,>=0.13.2->chromadb) (3.16.1)\n",
            "Requirement already satisfied: fsspec>=2023.5.0 in /usr/local/lib/python3.10/dist-packages (from huggingface-hub<1.0,>=0.16.4->tokenizers<=0.20.3,>=0.13.2->chromadb) (2024.10.0)\n",
            "Requirement already satisfied: zipp>=3.20 in /usr/local/lib/python3.10/dist-packages (from importlib-metadata<=8.5.0,>=6.0->opentelemetry-api>=1.2.0->chromadb) (3.21.0)\n",
            "Requirement already satisfied: jsonpointer>=1.9 in /usr/local/lib/python3.10/dist-packages (from jsonpatch<2.0,>=1.33->langchain-core<0.4,>=0.1.40->langchain-chroma) (3.0.0)\n",
            "Requirement already satisfied: requests-toolbelt<2.0.0,>=1.0.0 in /usr/local/lib/python3.10/dist-packages (from langsmith<0.2.0,>=0.1.125->langchain-core<0.4,>=0.1.40->langchain-chroma) (1.0.0)\n",
            "Requirement already satisfied: mdurl~=0.1 in /usr/local/lib/python3.10/dist-packages (from markdown-it-py>=2.2.0->rich>=10.11.0->chromadb) (0.1.2)\n",
            "Requirement already satisfied: charset-normalizer<4,>=2 in /usr/local/lib/python3.10/dist-packages (from requests->kubernetes>=28.1.0->chromadb) (3.4.0)\n",
            "Requirement already satisfied: sniffio>=1.1 in /usr/local/lib/python3.10/dist-packages (from anyio->httpx>=0.27.0->chromadb) (1.3.1)\n",
            "Requirement already satisfied: exceptiongroup in /usr/local/lib/python3.10/dist-packages (from anyio->httpx>=0.27.0->chromadb) (1.2.2)\n",
            "Collecting humanfriendly>=9.1 (from coloredlogs->onnxruntime>=1.14.1->chromadb)\n",
            "  Downloading humanfriendly-10.0-py2.py3-none-any.whl.metadata (9.2 kB)\n",
            "Requirement already satisfied: mpmath<1.4,>=1.1.0 in /usr/local/lib/python3.10/dist-packages (from sympy->onnxruntime>=1.14.1->chromadb) (1.3.0)\n",
            "Requirement already satisfied: pyasn1<0.7.0,>=0.4.6 in /usr/local/lib/python3.10/dist-packages (from pyasn1-modules>=0.2.1->google-auth>=1.0.1->kubernetes>=28.1.0->chromadb) (0.6.1)\n",
            "Downloading chromadb-0.5.23-py3-none-any.whl (628 kB)\n",
            "\u001b[2K   \u001b[90m━━━━━━━━━━━━━━━━━━━━━━━━━━━━━━━━━━━━━━━━\u001b[0m \u001b[32m628.3/628.3 kB\u001b[0m \u001b[31m13.6 MB/s\u001b[0m eta \u001b[36m0:00:00\u001b[0m\n",
            "\u001b[?25hDownloading chroma_hnswlib-0.7.6-cp310-cp310-manylinux_2_17_x86_64.manylinux2014_x86_64.whl (2.4 MB)\n",
            "\u001b[2K   \u001b[90m━━━━━━━━━━━━━━━━━━━━━━━━━━━━━━━━━━━━━━━━\u001b[0m \u001b[32m2.4/2.4 MB\u001b[0m \u001b[31m54.6 MB/s\u001b[0m eta \u001b[36m0:00:00\u001b[0m\n",
            "\u001b[?25hDownloading langchain_chroma-0.1.4-py3-none-any.whl (10 kB)\n",
            "Downloading bcrypt-4.2.1-cp39-abi3-manylinux_2_28_x86_64.whl (278 kB)\n",
            "\u001b[2K   \u001b[90m━━━━━━━━━━━━━━━━━━━━━━━━━━━━━━━━━━━━━━━━\u001b[0m \u001b[32m278.6/278.6 kB\u001b[0m \u001b[31m15.1 MB/s\u001b[0m eta \u001b[36m0:00:00\u001b[0m\n",
            "\u001b[?25hDownloading build-1.2.2.post1-py3-none-any.whl (22 kB)\n",
            "Downloading fastapi-0.115.6-py3-none-any.whl (94 kB)\n",
            "\u001b[2K   \u001b[90m━━━━━━━━━━━━━━━━━━━━━━━━━━━━━━━━━━━━━━━━\u001b[0m \u001b[32m94.8/94.8 kB\u001b[0m \u001b[31m6.7 MB/s\u001b[0m eta \u001b[36m0:00:00\u001b[0m\n",
            "\u001b[?25hDownloading kubernetes-31.0.0-py2.py3-none-any.whl (1.9 MB)\n",
            "\u001b[2K   \u001b[90m━━━━━━━━━━━━━━━━━━━━━━━━━━━━━━━━━━━━━━━━\u001b[0m \u001b[32m1.9/1.9 MB\u001b[0m \u001b[31m59.2 MB/s\u001b[0m eta \u001b[36m0:00:00\u001b[0m\n",
            "\u001b[?25hDownloading mmh3-5.0.1-cp310-cp310-manylinux_2_5_x86_64.manylinux1_x86_64.manylinux_2_17_x86_64.manylinux2014_x86_64.whl (93 kB)\n",
            "\u001b[2K   \u001b[90m━━━━━━━━━━━━━━━━━━━━━━━━━━━━━━━━━━━━━━━━\u001b[0m \u001b[32m93.2/93.2 kB\u001b[0m \u001b[31m6.3 MB/s\u001b[0m eta \u001b[36m0:00:00\u001b[0m\n",
            "\u001b[?25hDownloading onnxruntime-1.20.1-cp310-cp310-manylinux_2_27_x86_64.manylinux_2_28_x86_64.whl (13.3 MB)\n",
            "\u001b[2K   \u001b[90m━━━━━━━━━━━━━━━━━━━━━━━━━━━━━━━━━━━━━━━━\u001b[0m \u001b[32m13.3/13.3 MB\u001b[0m \u001b[31m77.8 MB/s\u001b[0m eta \u001b[36m0:00:00\u001b[0m\n",
            "\u001b[?25hDownloading opentelemetry_exporter_otlp_proto_grpc-1.28.2-py3-none-any.whl (18 kB)\n",
            "Downloading opentelemetry_exporter_otlp_proto_common-1.28.2-py3-none-any.whl (18 kB)\n",
            "Downloading opentelemetry_proto-1.28.2-py3-none-any.whl (55 kB)\n",
            "\u001b[2K   \u001b[90m━━━━━━━━━━━━━━━━━━━━━━━━━━━━━━━━━━━━━━━━\u001b[0m \u001b[32m55.8/55.8 kB\u001b[0m \u001b[31m3.7 MB/s\u001b[0m eta \u001b[36m0:00:00\u001b[0m\n",
            "\u001b[?25hDownloading opentelemetry_instrumentation_fastapi-0.49b2-py3-none-any.whl (12 kB)\n",
            "Downloading opentelemetry_instrumentation-0.49b2-py3-none-any.whl (30 kB)\n",
            "Downloading opentelemetry_instrumentation_asgi-0.49b2-py3-none-any.whl (16 kB)\n",
            "Downloading opentelemetry_util_http-0.49b2-py3-none-any.whl (6.9 kB)\n",
            "Downloading overrides-7.7.0-py3-none-any.whl (17 kB)\n",
            "Downloading posthog-3.7.4-py2.py3-none-any.whl (54 kB)\n",
            "\u001b[2K   \u001b[90m━━━━━━━━━━━━━━━━━━━━━━━━━━━━━━━━━━━━━━━━\u001b[0m \u001b[32m54.8/54.8 kB\u001b[0m \u001b[31m3.2 MB/s\u001b[0m eta \u001b[36m0:00:00\u001b[0m\n",
            "\u001b[?25hDownloading uvicorn-0.32.1-py3-none-any.whl (63 kB)\n",
            "\u001b[2K   \u001b[90m━━━━━━━━━━━━━━━━━━━━━━━━━━━━━━━━━━━━━━━━\u001b[0m \u001b[32m63.8/63.8 kB\u001b[0m \u001b[31m4.3 MB/s\u001b[0m eta \u001b[36m0:00:00\u001b[0m\n",
            "\u001b[?25hDownloading durationpy-0.9-py3-none-any.whl (3.5 kB)\n",
            "Downloading httptools-0.6.4-cp310-cp310-manylinux_2_5_x86_64.manylinux1_x86_64.manylinux_2_17_x86_64.manylinux2014_x86_64.whl (442 kB)\n",
            "\u001b[2K   \u001b[90m━━━━━━━━━━━━━━━━━━━━━━━━━━━━━━━━━━━━━━━━\u001b[0m \u001b[32m442.1/442.1 kB\u001b[0m \u001b[31m25.3 MB/s\u001b[0m eta \u001b[36m0:00:00\u001b[0m\n",
            "\u001b[?25hDownloading monotonic-1.6-py2.py3-none-any.whl (8.2 kB)\n",
            "Downloading protobuf-5.29.1-cp38-abi3-manylinux2014_x86_64.whl (319 kB)\n",
            "\u001b[2K   \u001b[90m━━━━━━━━━━━━━━━━━━━━━━━━━━━━━━━━━━━━━━━━\u001b[0m \u001b[32m319.7/319.7 kB\u001b[0m \u001b[31m20.0 MB/s\u001b[0m eta \u001b[36m0:00:00\u001b[0m\n",
            "\u001b[?25hDownloading starlette-0.41.3-py3-none-any.whl (73 kB)\n",
            "\u001b[2K   \u001b[90m━━━━━━━━━━━━━━━━━━━━━━━━━━━━━━━━━━━━━━━━\u001b[0m \u001b[32m73.2/73.2 kB\u001b[0m \u001b[31m4.9 MB/s\u001b[0m eta \u001b[36m0:00:00\u001b[0m\n",
            "\u001b[?25hDownloading uvloop-0.21.0-cp310-cp310-manylinux_2_17_x86_64.manylinux2014_x86_64.whl (3.8 MB)\n",
            "\u001b[2K   \u001b[90m━━━━━━━━━━━━━━━━━━━━━━━━━━━━━━━━━━━━━━━━\u001b[0m \u001b[32m3.8/3.8 MB\u001b[0m \u001b[31m64.4 MB/s\u001b[0m eta \u001b[36m0:00:00\u001b[0m\n",
            "\u001b[?25hDownloading watchfiles-1.0.0-cp310-cp310-manylinux_2_17_x86_64.manylinux2014_x86_64.whl (442 kB)\n",
            "\u001b[2K   \u001b[90m━━━━━━━━━━━━━━━━━━━━━━━━━━━━━━━━━━━━━━━━\u001b[0m \u001b[32m442.6/442.6 kB\u001b[0m \u001b[31m24.4 MB/s\u001b[0m eta \u001b[36m0:00:00\u001b[0m\n",
            "\u001b[?25hDownloading websockets-14.1-cp310-cp310-manylinux_2_5_x86_64.manylinux1_x86_64.manylinux_2_17_x86_64.manylinux2014_x86_64.whl (168 kB)\n",
            "\u001b[2K   \u001b[90m━━━━━━━━━━━━━━━━━━━━━━━━━━━━━━━━━━━━━━━━\u001b[0m \u001b[32m168.2/168.2 kB\u001b[0m \u001b[31m9.4 MB/s\u001b[0m eta \u001b[36m0:00:00\u001b[0m\n",
            "\u001b[?25hDownloading coloredlogs-15.0.1-py2.py3-none-any.whl (46 kB)\n",
            "\u001b[2K   \u001b[90m━━━━━━━━━━━━━━━━━━━━━━━━━━━━━━━━━━━━━━━━\u001b[0m \u001b[32m46.0/46.0 kB\u001b[0m \u001b[31m3.1 MB/s\u001b[0m eta \u001b[36m0:00:00\u001b[0m\n",
            "\u001b[?25hDownloading pyproject_hooks-1.2.0-py3-none-any.whl (10 kB)\n",
            "Downloading asgiref-3.8.1-py3-none-any.whl (23 kB)\n",
            "Downloading humanfriendly-10.0-py2.py3-none-any.whl (86 kB)\n",
            "\u001b[2K   \u001b[90m━━━━━━━━━━━━━━━━━━━━━━━━━━━━━━━━━━━━━━━━\u001b[0m \u001b[32m86.8/86.8 kB\u001b[0m \u001b[31m6.3 MB/s\u001b[0m eta \u001b[36m0:00:00\u001b[0m\n",
            "\u001b[?25hBuilding wheels for collected packages: pypika\n",
            "  Building wheel for pypika (pyproject.toml) ... \u001b[?25l\u001b[?25hdone\n",
            "  Created wheel for pypika: filename=PyPika-0.48.9-py2.py3-none-any.whl size=53725 sha256=53afb422f73c1e0c0600a00f8a046a74545648c09dd8d2a1ecebe4b3863878c8\n",
            "  Stored in directory: /root/.cache/pip/wheels/e1/26/51/d0bffb3d2fd82256676d7ad3003faea3bd6dddc9577af665f4\n",
            "Successfully built pypika\n",
            "Installing collected packages: pypika, monotonic, durationpy, websockets, uvloop, uvicorn, pyproject_hooks, protobuf, overrides, opentelemetry-util-http, mmh3, humanfriendly, httptools, chroma-hnswlib, bcrypt, asgiref, watchfiles, starlette, posthog, opentelemetry-proto, coloredlogs, build, opentelemetry-exporter-otlp-proto-common, onnxruntime, kubernetes, fastapi, opentelemetry-instrumentation, opentelemetry-instrumentation-asgi, opentelemetry-exporter-otlp-proto-grpc, opentelemetry-instrumentation-fastapi, chromadb, langchain-chroma\n",
            "  Attempting uninstall: protobuf\n",
            "    Found existing installation: protobuf 4.25.5\n",
            "    Uninstalling protobuf-4.25.5:\n",
            "      Successfully uninstalled protobuf-4.25.5\n",
            "\u001b[31mERROR: pip's dependency resolver does not currently take into account all the packages that are installed. This behaviour is the source of the following dependency conflicts.\n",
            "tensorflow 2.17.1 requires protobuf!=4.21.0,!=4.21.1,!=4.21.2,!=4.21.3,!=4.21.4,!=4.21.5,<5.0.0dev,>=3.20.3, but you have protobuf 5.29.1 which is incompatible.\n",
            "tensorflow-metadata 1.13.1 requires protobuf<5,>=3.20.3, but you have protobuf 5.29.1 which is incompatible.\u001b[0m\u001b[31m\n",
            "\u001b[0mSuccessfully installed asgiref-3.8.1 bcrypt-4.2.1 build-1.2.2.post1 chroma-hnswlib-0.7.6 chromadb-0.5.23 coloredlogs-15.0.1 durationpy-0.9 fastapi-0.115.6 httptools-0.6.4 humanfriendly-10.0 kubernetes-31.0.0 langchain-chroma-0.1.4 mmh3-5.0.1 monotonic-1.6 onnxruntime-1.20.1 opentelemetry-exporter-otlp-proto-common-1.28.2 opentelemetry-exporter-otlp-proto-grpc-1.28.2 opentelemetry-instrumentation-0.49b2 opentelemetry-instrumentation-asgi-0.49b2 opentelemetry-instrumentation-fastapi-0.49b2 opentelemetry-proto-1.28.2 opentelemetry-util-http-0.49b2 overrides-7.7.0 posthog-3.7.4 protobuf-5.29.1 pypika-0.48.9 pyproject_hooks-1.2.0 starlette-0.41.3 uvicorn-0.32.1 uvloop-0.21.0 watchfiles-1.0.0 websockets-14.1\n"
          ]
        }
      ]
    },
    {
      "cell_type": "code",
      "source": [
        "# import chromadb\n",
        "# chroma_client = chromadb.Client()"
      ],
      "metadata": {
        "id": "i1BQDgZP4iFj"
      },
      "execution_count": 17,
      "outputs": []
    },
    {
      "cell_type": "code",
      "source": [
        "# collection = chroma_client.create_collection(name=\"PKM\")"
      ],
      "metadata": {
        "id": "ykzXXypC4r9G"
      },
      "execution_count": 18,
      "outputs": []
    },
    {
      "cell_type": "code",
      "source": [
        "# collection"
      ],
      "metadata": {
        "id": "G_omc5H9e9cW"
      },
      "execution_count": 19,
      "outputs": []
    },
    {
      "cell_type": "code",
      "source": [
        "# collection.add(\n",
        "#     documents=[\n",
        "#         \"This is a document about pineapple\",\n",
        "#         \"This is a document about oranges\"\n",
        "#     ],\n",
        "#     ids=[\"id1\", \"id2\"]\n",
        "# )\n"
      ],
      "metadata": {
        "id": "gM9bPYbc6ZTK"
      },
      "execution_count": 20,
      "outputs": []
    },
    {
      "cell_type": "code",
      "source": [
        "# results = collection.query(\n",
        "#     query_texts=[\"This is a query document about hawaii\"], # Chroma will embed this for you\n",
        "#     n_results=2\n",
        "# )\n",
        "# print(results)"
      ],
      "metadata": {
        "id": "WOGtjCz96hPd"
      },
      "execution_count": 21,
      "outputs": []
    },
    {
      "cell_type": "code",
      "source": [
        "{\n",
        "  'documents': [[\n",
        "      'This is a document about pineapple',\n",
        "      'This is a document about oranges'\n",
        "  ]],\n",
        "  'ids': [['id1', 'id2']],\n",
        "  'distances': [[1.0404009819030762, 1.243080496788025]],\n",
        "  'uris': None,\n",
        "  'data': None,\n",
        "  'metadatas': [[None, None]],\n",
        "  'embeddings': None,\n",
        "}"
      ],
      "metadata": {
        "colab": {
          "base_uri": "https://localhost:8080/"
        },
        "id": "EQTynxzS6ptj",
        "outputId": "f1b5648d-7e0c-4831-87bb-69fa1bf60476"
      },
      "execution_count": 22,
      "outputs": [
        {
          "output_type": "execute_result",
          "data": {
            "text/plain": [
              "{'documents': [['This is a document about pineapple',\n",
              "   'This is a document about oranges']],\n",
              " 'ids': [['id1', 'id2']],\n",
              " 'distances': [[1.0404009819030762, 1.243080496788025]],\n",
              " 'uris': None,\n",
              " 'data': None,\n",
              " 'metadatas': [[None, None]],\n",
              " 'embeddings': None}"
            ]
          },
          "metadata": {},
          "execution_count": 22
        }
      ]
    },
    {
      "cell_type": "markdown",
      "source": [
        "# mistral embeding"
      ],
      "metadata": {
        "id": "Gpfo6x0X87E-"
      }
    },
    {
      "cell_type": "code",
      "source": [
        "from langchain_mistralai import MistralAIEmbeddings\n",
        "\n",
        "embeddings = MistralAIEmbeddings(model=\"mistral-embed\")"
      ],
      "metadata": {
        "id": "4eQ-HGR58ikR",
        "colab": {
          "base_uri": "https://localhost:8080/"
        },
        "outputId": "d86fe26c-8df5-4bef-a4fa-76336000c801"
      },
      "execution_count": 23,
      "outputs": [
        {
          "output_type": "stream",
          "name": "stderr",
          "text": [
            "/usr/local/lib/python3.10/dist-packages/langchain_mistralai/embeddings.py:175: UserWarning: Could not download mistral tokenizer from Huggingface for calculating batch sizes. Set a Huggingface token via the HF_TOKEN environment variable to download the real tokenizer. Falling back to a dummy tokenizer that uses `len()`.\n",
            "  warnings.warn(\n"
          ]
        }
      ]
    },
    {
      "cell_type": "code",
      "source": [
        "print(embeddings.embed_query(\"Hello, world!\"))"
      ],
      "metadata": {
        "id": "3Y5LMF2W83Et",
        "colab": {
          "base_uri": "https://localhost:8080/"
        },
        "outputId": "9770c72f-fb26-471b-cf7d-48a01b6e4d68"
      },
      "execution_count": 24,
      "outputs": [
        {
          "output_type": "stream",
          "name": "stdout",
          "text": [
            "[-0.022216796875, 0.03656005859375, 0.03826904296875, 0.035675048828125, 0.02587890625, 0.03466796875, 0.01190948486328125, 0.0341796875, -0.0308380126953125, -0.0174713134765625, -0.026611328125, 0.036285400390625, -0.0228271484375, -0.00649261474609375, -0.0347900390625, 0.0206146240234375, -0.0216064453125, 0.0269317626953125, 0.022552490234375, 0.049285888671875, -0.038116455078125, -0.024078369140625, -0.052825927734375, 0.016204833984375, -0.0233001708984375, -0.0128631591796875, 0.01239776611328125, -0.029083251953125, -0.038421630859375, 0.014007568359375, -0.00345611572265625, -0.0286712646484375, -0.004322052001953125, 0.0002601146697998047, 0.03302001953125, -0.0307464599609375, -0.018096923828125, -0.0296173095703125, 0.03466796875, -0.0113677978515625, -0.024932861328125, -0.0064849853515625, 0.0021610260009765625, -0.03155517578125, 0.01476287841796875, -0.030731201171875, 0.018096923828125, -0.0297088623046875, 0.01163482666015625, -0.05670166015625, 0.0023326873779296875, 0.053070068359375, 0.03985595703125, 0.0166168212890625, -0.0094146728515625, 0.00850677490234375, 0.00728607177734375, -0.03143310546875, -0.0208740234375, 0.07830810546875, -0.0626220703125, -0.00629425048828125, -0.032562255859375, -0.007541656494140625, 0.048858642578125, 0.017608642578125, 0.00809478759765625, -0.0279998779296875, -0.01519012451171875, 0.0013132095336914062, 0.0372314453125, 0.0251312255859375, 0.0030364990234375, 0.00417327880859375, -0.030303955078125, -0.0809326171875, 0.010955810546875, 0.0006189346313476562, 0.05267333984375, 0.031951904296875, -0.0109710693359375, 0.001285552978515625, 0.053253173828125, -0.040679931640625, -0.00658416748046875, 0.035003662109375, -0.00595855712890625, -0.009124755859375, 0.0200653076171875, 0.04193115234375, -0.004924774169921875, 0.01129913330078125, 0.004871368408203125, 0.01003265380859375, 0.054290771484375, 0.049713134765625, -0.025299072265625, -0.01245880126953125, 0.00799560546875, 0.03289794921875, 0.004474639892578125, -0.01036834716796875, 0.06787109375, -0.0131072998046875, 0.02886962890625, -0.04290771484375, 0.003147125244140625, -0.03143310546875, -0.02569580078125, -0.044525146484375, -0.0732421875, -0.034393310546875, -0.0158843994140625, -0.07305908203125, -0.0253143310546875, 0.00457763671875, -0.01500701904296875, 0.07781982421875, -0.03271484375, -0.045684814453125, 0.0316162109375, -0.00640106201171875, -0.00726318359375, 0.03851318359375, -0.03204345703125, -0.03997802734375, -0.01155853271484375, 0.00946807861328125, -0.000904083251953125, 0.0194244384765625, -0.0330810546875, -0.00937652587890625, -0.0216217041015625, -0.038665771484375, 0.01267242431640625, -0.026702880859375, 0.040313720703125, -0.00785064697265625, -0.01654052734375, -0.0129241943359375, 0.0233612060546875, -0.027557373046875, -0.06842041015625, 0.00960540771484375, -0.03619384765625, -0.016326904296875, -0.01465606689453125, 0.0418701171875, -0.0321044921875, -0.0144805908203125, -0.035675048828125, 0.0535888671875, 0.080810546875, 0.01157379150390625, -0.0021076202392578125, -0.01480865478515625, -0.006927490234375, -0.0006628036499023438, 0.01025390625, -0.052703857421875, -0.048614501953125, -0.003948211669921875, -0.0240325927734375, 0.051727294921875, -0.0026702880859375, -0.0138397216796875, -0.026519775390625, -0.00516510009765625, -0.0254669189453125, -9.888410568237305e-05, 0.01617431640625, -0.036102294921875, 0.0406494140625, 0.006946563720703125, -0.007598876953125, 0.00907135009765625, 0.0006937980651855469, 0.00704193115234375, 0.07879638671875, 0.0235595703125, -0.038909912109375, -0.0228271484375, 0.035797119140625, -0.0144500732421875, -0.0176849365234375, -0.0012311935424804688, -0.040313720703125, -0.006397247314453125, -0.00864410400390625, 0.0694580078125, -0.0021114349365234375, -0.027496337890625, -0.05322265625, 0.020843505859375, -0.052520751953125, 0.05145263671875, 0.050811767578125, -0.02435302734375, 0.00876617431640625, 0.00726318359375, 0.021820068359375, -0.02001953125, 0.0219573974609375, 0.062164306640625, -0.00806427001953125, 0.0187835693359375, -0.0311279296875, 0.041961669921875, 0.00212860107421875, -0.0266876220703125, -0.0345458984375, 0.00927734375, 0.0208740234375, -0.0380859375, -0.0164794921875, -0.0285491943359375, 0.02911376953125, -0.0233001708984375, -0.0303955078125, -0.004833221435546875, 0.0218963623046875, -0.024200439453125, 0.0006232261657714844, 0.0076446533203125, 0.0220489501953125, 0.05462646484375, 0.01192474365234375, -0.0323486328125, 0.01239776611328125, 0.0394287109375, 0.01131439208984375, 0.025543212890625, 0.0082244873046875, 0.00942230224609375, 0.0172119140625, 0.0014429092407226562, 0.0298614501953125, 0.044830322265625, 0.007785797119140625, 0.0054168701171875, -0.0382080078125, 0.026123046875, -0.0197906494140625, 0.032135009765625, 0.047698974609375, 0.015533447265625, -0.0014019012451171875, -0.01837158203125, 0.0299224853515625, 0.0303192138671875, -0.029510498046875, -0.01332855224609375, -0.048431396484375, -0.00238800048828125, -0.0618896484375, -0.01308441162109375, -0.004730224609375, -0.0465087890625, 0.06988525390625, -0.0413818359375, -0.00263214111328125, -0.02587890625, 0.0264892578125, -0.03076171875, 0.0838623046875, 0.044891357421875, -0.0721435546875, 0.0286712646484375, 0.0687255859375, -0.00708770751953125, 0.0175323486328125, 0.0008215904235839844, 0.0311279296875, 0.01221466064453125, 0.018218994140625, -0.041961669921875, 0.0018768310546875, 0.062255859375, -0.0025043487548828125, 0.0178680419921875, -0.059600830078125, 0.01209259033203125, 0.01788330078125, 0.053497314453125, -0.033203125, -0.004894256591796875, -0.004207611083984375, -0.0169677734375, -0.04229736328125, -0.07220458984375, 0.0166778564453125, -0.002605438232421875, 0.0160369873046875, 0.006771087646484375, -0.0079803466796875, -0.045806884765625, 0.0172576904296875, 0.01506805419921875, -0.00018036365509033203, 0.02569580078125, 0.0650634765625, -0.025787353515625, -0.01393890380859375, -0.027923583984375, 0.0161590576171875, -0.04736328125, -0.0421142578125, 0.0004429817199707031, -0.0094757080078125, -0.07867431640625, -0.0006780624389648438, 0.0009503364562988281, -0.01739501953125, 0.01548004150390625, 0.032501220703125, -0.004360198974609375, -0.022735595703125, 0.003032684326171875, 0.01381683349609375, -0.0235748291015625, -0.0218658447265625, -0.032623291015625, 0.045257568359375, -0.019775390625, 0.00873565673828125, -0.01030731201171875, -0.001895904541015625, -0.01074981689453125, 0.003192901611328125, -0.034149169921875, 0.01035308837890625, 0.00432586669921875, 0.043182373046875, 0.041168212890625, -0.0137939453125, 0.0101318359375, 0.040679931640625, 0.015228271484375, -0.01204681396484375, 0.0162506103515625, -0.0011692047119140625, -0.00446319580078125, 0.0163116455078125, -0.00733184814453125, -0.0149383544921875, -0.033782958984375, -0.056884765625, 0.01535797119140625, 0.005771636962890625, 0.03411865234375, 0.018707275390625, 2.1517276763916016e-05, -0.031707763671875, 0.05078125, -0.01496124267578125, 0.0899658203125, -0.02392578125, 0.0015497207641601562, 0.0245819091796875, 0.054931640625, -0.039337158203125, 0.040496826171875, 0.02276611328125, 0.04193115234375, -0.002124786376953125, 0.05712890625, -0.0245361328125, 0.025390625, -0.01509857177734375, 0.0203399658203125, -0.0014743804931640625, 0.01140594482421875, 0.0166473388671875, 0.0182647705078125, 0.024871826171875, 0.05078125, 0.0213165283203125, -0.018341064453125, 0.01467132568359375, -0.0006256103515625, -0.0435791015625, 0.017425537109375, 0.0296630859375, 0.003452301025390625, 0.0029926300048828125, 0.0015802383422851562, -0.06787109375, 0.01544952392578125, -0.0178680419921875, 0.0753173828125, 0.04656982421875, 0.045623779296875, -0.01145172119140625, -0.0200653076171875, 0.005344390869140625, -0.00893402099609375, 0.0230865478515625, 0.03607177734375, 0.0227813720703125, -0.0030384063720703125, -0.00390625, -0.031829833984375, 0.04144287109375, 0.043243408203125, 0.00754547119140625, 0.036224365234375, 0.0099945068359375, 0.01526641845703125, 0.00331878662109375, -0.028594970703125, 0.01282501220703125, 0.02386474609375, -0.0108489990234375, 0.0048065185546875, 0.0081024169921875, -0.02398681640625, -0.073486328125, 0.00214385986328125, 0.01346588134765625, 0.028656005859375, 0.00860595703125, -0.00345611572265625, -0.03778076171875, -0.0032196044921875, 0.07598876953125, -0.05621337890625, -0.033111572265625, 0.0531005859375, -0.0017023086547851562, 0.0093994140625, -0.031524658203125, -0.071044921875, 0.06170654296875, -0.004428863525390625, -0.0196990966796875, 0.0272674560546875, 0.0299530029296875, -0.0467529296875, -0.0008740425109863281, -0.025299072265625, 0.00652313232421875, -0.0307159423828125, -0.0005970001220703125, 0.037841796875, -0.021453857421875, 0.0252685546875, 0.05511474609375, 0.0244903564453125, 0.00279998779296875, -0.03192138671875, 0.0465087890625, -0.035491943359375, -0.03338623046875, 0.0183868408203125, 0.014312744140625, -0.014801025390625, -0.01438140869140625, -0.00939178466796875, -0.0250396728515625, -0.0260162353515625, -0.0008234977722167969, 0.030181884765625, -0.039794921875, -0.06353759765625, -0.03509521484375, 0.05340576171875, 0.01155853271484375, 0.060638427734375, 0.01267242431640625, -0.06878662109375, 0.0384521484375, -0.0224609375, -0.013671875, 0.002742767333984375, 0.005352020263671875, -0.01496124267578125, 0.04876708984375, 0.0160064697265625, 0.00791168212890625, 0.012603759765625, 0.0172271728515625, -0.016082763671875, -0.0021266937255859375, -0.0274810791015625, 0.0175018310546875, 0.0073699951171875, -0.046417236328125, -0.053131103515625, -0.01424407958984375, 0.025299072265625, 0.06231689453125, -0.00812530517578125, -0.01520538330078125, 0.0140228271484375, -0.0182647705078125, -0.03363037109375, -0.0247802734375, 0.0003085136413574219, -0.0219573974609375, 0.0439453125, -0.0031223297119140625, -0.01360321044921875, 0.0244903564453125, 0.02069091796875, 0.007171630859375, 0.0216522216796875, -0.01007843017578125, -0.046295166015625, 0.01324462890625, -0.028900146484375, -0.016357421875, -0.03900146484375, 0.0076751708984375, -0.036041259765625, -0.0257568359375, -0.030303955078125, -0.039276123046875, 0.00244903564453125, -0.038848876953125, -0.020782470703125, -0.005451202392578125, -0.0010623931884765625, -0.059814453125, -0.0268096923828125, 0.0301971435546875, 0.0228729248046875, 0.008270263671875, -0.00494384765625, 0.0142059326171875, -0.0308837890625, 0.0389404296875, 0.00794219970703125, -0.01544189453125, 0.0201263427734375, -0.016510009765625, 0.0131378173828125, 0.0335693359375, 0.04345703125, -0.020233154296875, -0.01104736328125, -0.05084228515625, 0.00426483154296875, 0.00337982177734375, -0.03887939453125, -0.008880615234375, -0.020233154296875, -0.07861328125, -0.00988006591796875, 0.049713134765625, 0.0055999755859375, 0.0104827880859375, -0.033935546875, -0.005847930908203125, -0.031463623046875, -0.01824951171875, 0.041473388671875, -0.01275634765625, -0.005401611328125, -0.013671875, -0.00395965576171875, 0.044036865234375, -0.0223236083984375, 0.03076171875, 0.03997802734375, 0.0498046875, -0.053131103515625, 0.00928497314453125, 0.00592803955078125, -0.0305633544921875, -0.0310211181640625, -0.054534912109375, 0.051361083984375, 0.00794219970703125, -0.043609619140625, 0.031036376953125, 0.0430908203125, 0.031585693359375, -0.007732391357421875, 0.00034880638122558594, -0.007472991943359375, 0.02911376953125, 0.041900634765625, -0.07086181640625, -0.05462646484375, 0.010162353515625, -0.0203704833984375, 0.06402587890625, 0.0199127197265625, 0.0036563873291015625, -0.015838623046875, 0.011505126953125, 0.043487548828125, -0.0254669189453125, -0.03521728515625, -0.044036865234375, 0.01184844970703125, 0.03369140625, 0.06201171875, 0.004566192626953125, 0.06512451171875, 0.0279998779296875, -0.005126953125, 0.0031642913818359375, 0.07635498046875, 0.0472412109375, -0.032012939453125, -0.064697265625, -0.030609130859375, 0.01080322265625, -0.0418701171875, -0.01291656494140625, 0.044189453125, 0.028533935546875, -0.05487060546875, -0.025787353515625, -0.0268402099609375, -0.007015228271484375, 0.0158843994140625, 0.01885986328125, -0.0025577545166015625, 0.056365966796875, 0.007122039794921875, -0.040618896484375, 0.0034618377685546875, -0.01551055908203125, -0.00214385986328125, 0.048492431640625, 0.0137786865234375, -0.0082244873046875, 0.019866943359375, 0.0199432373046875, 0.01027679443359375, 0.01027679443359375, 0.00379180908203125, 0.0120391845703125, 0.01181793212890625, 0.035430908203125, 0.0479736328125, -0.0232086181640625, -0.01447296142578125, 0.00621795654296875, 0.036529541015625, -0.00418853759765625, 0.01617431640625, -0.01374053955078125, 0.0008764266967773438, -0.0018100738525390625, -0.034332275390625, 0.0032405853271484375, -0.0039520263671875, 0.0032024383544921875, 0.0026721954345703125, -0.045257568359375, 0.017425537109375, -0.0208587646484375, -0.004619598388671875, 0.035125732421875, -0.01348114013671875, -0.0286407470703125, 0.049835205078125, -0.04534912109375, -0.00919342041015625, 0.0102691650390625, -0.00887298583984375, -0.038360595703125, -0.051177978515625, -0.04913330078125, 0.0285186767578125, -0.05230712890625, -0.041015625, -0.041229248046875, 0.0322265625, 0.0028362274169921875, -0.0231170654296875, -0.0091705322265625, -0.0009145736694335938, -0.0102996826171875, -0.009307861328125, -0.04156494140625, -0.00446319580078125, 0.00283050537109375, -0.048004150390625, -0.0239105224609375, -0.02581787109375, -0.00862884521484375, -0.03411865234375, -0.037994384765625, -0.0238494873046875, 0.03094482421875, -0.043060302734375, 0.044281005859375, -0.005481719970703125, 0.01271820068359375, 0.036590576171875, 0.0369873046875, -0.0172119140625, -0.0224609375, 0.01409149169921875, -0.05816650390625, -0.00307464599609375, 0.0211334228515625, 0.020599365234375, -0.03912353515625, -0.048797607421875, 0.053955078125, -0.018707275390625, 0.018768310546875, 0.006244659423828125, -0.0302276611328125, -0.001251220703125, 0.01131439208984375, -0.029998779296875, 0.03887939453125, 0.0582275390625, 0.00809478759765625, -0.026397705078125, -0.003139495849609375, -0.046173095703125, 0.055755615234375, 0.0208282470703125, 0.015655517578125, -0.05023193359375, 0.01373291015625, -0.005138397216796875, -0.0300445556640625, -0.055450439453125, -0.059722900390625, -0.022552490234375, 0.016357421875, 0.0160064697265625, 0.031158447265625, 0.01259613037109375, 0.007770538330078125, -0.007755279541015625, -0.0494384765625, -0.01346588134765625, -0.01611328125, 0.0031147003173828125, -0.05108642578125, -0.0066070556640625, -0.03759765625, -0.040802001953125, -0.065185546875, -0.03057861328125, 0.0197601318359375, 0.00952911376953125, -0.0140228271484375, 0.039825439453125, 0.005474090576171875, 0.043487548828125, 0.02215576171875, 0.029510498046875, -0.00479888916015625, 0.0003521442413330078, 0.011474609375, 0.036895751953125, 0.028717041015625, 0.01953125, 0.0039043426513671875, 0.0128936767578125, 0.01824951171875, -0.0262298583984375, 0.049224853515625, 0.037261962890625, 0.0123291015625, -0.03057861328125, 0.005374908447265625, -0.044097900390625, 0.027496337890625, 0.006946563720703125, 0.04583740234375, 0.00501251220703125, 0.01479339599609375, -0.06219482421875, 0.04278564453125, -0.0055694580078125, 0.0233612060546875, -0.004474639892578125, -0.0260009765625, -0.08563232421875, -0.08160400390625, -0.055389404296875, -0.035247802734375, -0.0032329559326171875, 0.02691650390625, 0.01242828369140625, 0.00609588623046875, 0.018890380859375, -0.024200439453125, 0.038177490234375, 0.0408935546875, 0.0226287841796875, -0.01134490966796875, 0.0992431640625, -0.0135040283203125, -0.00354766845703125, -0.0231170654296875, 0.01439666748046875, 0.02020263671875, -0.009521484375, -0.02667236328125, -0.027099609375, 0.0275726318359375, 0.019989013671875, -0.035797119140625, 0.03717041015625, 0.0253448486328125, -0.00301361083984375, -0.00858306884765625, 0.00804901123046875, 0.00433349609375, 0.0127716064453125, -0.002166748046875, -0.0161590576171875, -0.06689453125, -0.060455322265625, -0.017303466796875, -0.0149383544921875, 0.00962066650390625, 0.0006327629089355469, -0.01442718505859375, 0.0394287109375, 0.002857208251953125, 0.04339599609375, 0.00928497314453125, 0.0166015625, -0.05059814453125, 0.03759765625, -0.0265960693359375, 0.039947509765625, 0.0090484619140625, -0.014617919921875, 0.03521728515625, 0.0267333984375, -0.0272979736328125, 0.02008056640625, 0.017303466796875, -0.032867431640625, 0.00490570068359375, -0.0149383544921875, -0.044281005859375, 0.035980224609375, 0.0006041526794433594, -0.01210784912109375, -0.01076507568359375, 0.032196044921875, 0.0020084381103515625, -0.049713134765625, 0.032501220703125, -0.022186279296875, -0.035675048828125, -0.01520538330078125, 0.00870513916015625, -0.012451171875, 0.01168060302734375, 0.039306640625, 0.035247802734375, 0.0419921875, 0.016998291015625, 0.00998687744140625, 0.014251708984375, 0.01415252685546875, -0.01088714599609375, 0.02081298828125, 0.06976318359375, 0.0245361328125, -0.0025386810302734375, -0.003383636474609375, -0.03778076171875, 0.0101470947265625, -0.01247406005859375, -0.054840087890625, -0.00658416748046875, 0.0816650390625, 0.032257080078125, -0.0019683837890625, 0.0416259765625, 0.04095458984375, 0.025848388671875, 0.01210784912109375, -0.0130615234375, -0.03411865234375, -0.015472412109375, -0.0018892288208007812, 0.0017843246459960938, -0.069091796875, 0.0166778564453125, 0.044464111328125, -0.0063323974609375, -0.00673675537109375, -0.00577545166015625, -0.0267333984375, 0.0626220703125, 0.053680419921875, 0.0114593505859375, -0.08123779296875, 0.023529052734375, 0.01312255859375, -0.0208892822265625, 0.00177764892578125, -0.0190277099609375, -0.020172119140625, 0.04412841796875, -0.01404571533203125, 0.00661468505859375, -0.0024280548095703125, 0.058258056640625, -0.0035190582275390625, -0.0206756591796875, -0.032196044921875, 0.031463623046875, 0.0189666748046875, -0.0521240234375, -0.0037136077880859375, 0.0015535354614257812, -0.005390167236328125, 0.005489349365234375, 0.034515380859375, -0.03985595703125, 0.040130615234375, -0.0187835693359375, -0.035675048828125, 0.0230865478515625, -0.036468505859375, 0.001605987548828125, 0.007785797119140625, -0.040069580078125, -0.0035114288330078125, -0.03497314453125, 0.029327392578125, -0.004917144775390625, -0.002918243408203125, 0.0204315185546875, -0.023712158203125, -0.01910400390625, 0.0184326171875, 0.058013916015625, 0.01202392578125, 0.0286865234375, 0.0164031982421875, 0.021636962890625, 0.04193115234375, 0.0277252197265625, 0.0047149658203125, 0.0155029296875, -0.05706787109375, 0.024322509765625, -0.06280517578125, -7.522106170654297e-05, 0.01441192626953125, -0.007801055908203125, -0.0030231475830078125, -0.023223876953125, 0.0168609619140625, -0.019775390625, -0.0246429443359375, -0.0163421630859375, -0.00567626953125, -0.042816162109375, 0.0271148681640625, 0.008514404296875, 0.0205078125, 0.0014934539794921875, -0.061370849609375, 0.038726806640625, 0.0467529296875, 0.032623291015625, -0.007251739501953125, -0.0250244140625, 0.002197265625, 0.0033588409423828125, 0.01360321044921875, 0.0014486312866210938, 0.00576019287109375, 0.04254150390625, 0.0289306640625, 0.00348663330078125, -0.04052734375, 0.00859832763671875, -0.0214691162109375, -0.049560546875, 0.0029926300048828125, 0.058990478515625, 0.03302001953125, 0.00263214111328125, 0.029083251953125, -0.033721923828125, -0.0513916015625, 0.0538330078125, 0.0323486328125, -0.021881103515625, 0.03021240234375, -0.04620361328125, 0.04736328125, 0.0010538101196289062, 0.0780029296875, -0.0228424072265625, 0.0714111328125, -0.00238037109375, 0.0092926025390625, -0.035186767578125, -0.004741668701171875, -0.00701141357421875, 0.030059814453125, 0.0168304443359375, 0.04541015625, 0.033050537109375, 0.01169586181640625, -0.06787109375, -0.028533935546875, 0.035491943359375, 0.004119873046875, 0.04730224609375, -0.037811279296875, -0.0291748046875, 0.02960205078125, 0.02301025390625, 0.0289154052734375, 0.0152130126953125, 0.060638427734375, 0.00864410400390625, 0.00890350341796875, -0.024932861328125, -0.028045654296875]\n"
          ]
        }
      ]
    },
    {
      "cell_type": "markdown",
      "source": [
        "# vectore store in Chroma"
      ],
      "metadata": {
        "id": "dzdoeTW7oejN"
      }
    },
    {
      "cell_type": "code",
      "source": [
        "from langchain_chroma import Chroma\n",
        "\n",
        "vector_store = Chroma(\n",
        "    collection_name=\"PKM\",\n",
        "    embedding_function=embeddings,\n",
        "    persist_directory=\"./chroma_db\",\n",
        ")"
      ],
      "metadata": {
        "id": "yejGScKdg3cs"
      },
      "execution_count": 25,
      "outputs": []
    },
    {
      "cell_type": "code",
      "source": [
        "from uuid import uuid4"
      ],
      "metadata": {
        "id": "4xIB9mXMhfUS"
      },
      "execution_count": 26,
      "outputs": []
    },
    {
      "cell_type": "code",
      "source": [
        "uuids = [str(uuid4()) for _ in range(len(doc))]\n",
        "\n",
        "vector_store.add_documents(documents=doc, ids=uuids)  # one for now, later we can add more"
      ],
      "metadata": {
        "colab": {
          "base_uri": "https://localhost:8080/"
        },
        "id": "M7Bb6Cc7hPoq",
        "outputId": "89b23e68-7d23-44fc-f41e-f5e3d66dd657"
      },
      "execution_count": 28,
      "outputs": [
        {
          "output_type": "execute_result",
          "data": {
            "text/plain": [
              "['994e8e22-07ea-4994-90fd-316caae24561']"
            ]
          },
          "metadata": {},
          "execution_count": 28
        }
      ]
    },
    {
      "cell_type": "code",
      "source": [
        "results = vector_store.similarity_search(\n",
        "    \"شہری پولیس خدمت مرکز سے ڈرایئونگ لائسنس کی تجدید کے لئے درخواست جمع کروا سکتے ہیں۔\",\n",
        "    k=2,\n",
        "    # filter={\"service_name\": \"\"},\n",
        ")\n",
        "for res in results:\n",
        "    print(f\"* {res.page_content} [{res.metadata}]\")"
      ],
      "metadata": {
        "colab": {
          "base_uri": "https://localhost:8080/"
        },
        "id": "kaKOnp2ah5oG",
        "outputId": "529cba54-0690-4a89-c315-2614457ba444"
      },
      "execution_count": 34,
      "outputs": [
        {
          "output_type": "stream",
          "name": "stdout",
          "text": [
            "* [{'service_name': 'کریکٹر سرٹیفیکیٹ', 'description': 'با ہر کے ممالک جانے کے لیے، باہر کے مختلف اداروں میں ملازمت حاصل کرنے کےلیے اور وطن بدلی کے لیے پولیس کریکٹر سرٹیفیکیٹ کی ضرورت پڑتی ہے۔', 'required_documents': ['3 پاسپورٹ سایز تصاویر (ہلکے نیلے رنگ کا بیک گراوَنڈ، غیر مصدقہ)', 'شناختی کارڈ اصلی', 'شناختی کارڈ کی دو کاپیاں (گزیٹیڈ افسر سے مصدقہ)', 'اصلی پاسپورٹ', 'پاسپورٹ کی ایک کاپی (گزیٹیڈ افسر سے مصدقہ)', '50 روپیہ کا حلف نامہ (عہدیدار کمشنر سے تصدیق شدہ)', 'اختیار نامہ (اگر درخواست دہندہ ملک سے باہر ہے)'], 'processing_fee': '500 روپے', 'processing_time': '5 سرکاری دن', 'delivery_method': 'کوریئر', 'notes': 'کریکٹر سرٹیفیکیٹ صرف امیدوار کے خود آنے پر ہی جمع کرایا جاتا ہے۔ اگر امیدوار ملک سے باہر ہو تو اس کی جگہ رشتہ دار اختیار نامہ کے ساتھ درخواست دے سکتا ہے۔'}, {'service_name': 'پولیس ویریفیکیشن', 'description': 'پاکستان کے مختلف اداروں میں ملازمت کی درخواست کے لیے پولیس ریکارڈ کی عمومی تصدیق ضروری ہوتی ہے۔', 'required_documents': ['اصلی شناختی کارڈ', 'شناختی کارڈ کی دو کاپیاں'], 'processing_fee': '300 روپے', 'processing_time': '5 سرکاری دن', 'delivery_method': 'کوریئر'}, {'service_name': 'لرنرز ڈرایئونگ لائسنس', 'description': 'شہری کسی بھی پی کے ایم سے لرنرز ڈرایئونگ لائسنس حاصل کر سکتے ہیں۔', 'required_documents': ['اصلی شناختی کارڈ بمع ایک کاپی', 'ٹریفک قوایئد و قوانین کی کتاب', 'میڈیکل سرٹیفیکیٹ (50 سال سے بڑے امیدواروں کے لیے)'], 'age_limits': {'motorcycle_car': '18 سال', 'ltv_rickshaw_commercial_tractor': '21 سال'}, 'processing_fee': '60 روپے', 'processing_time': '15 منٹ', 'delivery_method': 'موقع پر', 'notes': 'لرنرز پرمٹ روزانہ جاری ہوتے ہیں اور ان کی معیاد 2 مہینے ہوتی ہے۔'}, {'service_name': 'ڈرایئونگ لائسنس کی تجدید', 'description': 'شہری پولیس خدمت مرکز سے ڈرایئونگ لائسنس کی تجدید کے لئے درخواست جمع کروا سکتے ہیں۔', 'required_documents': ['ضروری درخواست فارم ای فایئل کور کے ساتھ', '2 عدد پاسپورٹ سایئز تصویریں', 'شناختی کارڈ کی کاپی', 'اصلی ڈرایئونگ لائسنس', 'میڈیکل سرٹیفیکیٹ (50 سال سے بڑے امیدواروں کے لیے)', 'متعلقہ لائسنس کا ٹکٹ'], 'processing_fee': {'motorcycle_rickshaw': '500 روپے', 'car_ltv': '750 روپے', 'htv': '2000 روپے'}, 'processing_time': '5 سرکاری دن', 'delivery_method': 'کوریئر'}, {'service_name': 'بین الاقوامی ڈرایئونگ لائسنس', 'description': 'شہری پولیس خدمت مرکز سے بین الاقوامی ڈرایئونگ لائسنس کےلئے درخواست جمع کروا سکتے ہیں۔', 'required_documents': ['بین الاقوامی درخواست فارم فایئل کور کے ساتھ', 'شناختی کارڈ کی تصدیق شدہ کاپی', 'لاہور سے حاصل کردہ اصلی ڈرایئونگ لائسنس کی کاپی', 'پاکستانی پاسپورٹ کی کاپی بمع 2 مہینہ کا ویزا', '2 عدد پاسپورٹ سایئز تصویریں (تصدیق شدہ)'], 'processing_fee': {'court': '66 روپے', 'challan': '450 روپے'}, 'processing_time': '5 سرکاری دن', 'delivery_method': 'کوریئر', 'notes': 'درخواست دہندہ اپنا اصلی شناختی کارڈ، ڈرایئونگ لائسنس اور پاسپورٹ ساتھ لاےَ گا/گی۔'}, {'service_name': 'نقل ڈرایئونگ لائسنس', 'description': 'شہری پولیس خدمت مرکز سے نقل ڈرایئونگ لائسنس کےلئے درخواست جمع کروا سکتے ہیں۔', 'required_documents': ['ضروری نقل درخواست فارم', 'شناختی کارڈ کی تصدیق شدہ کاپی', '2 عدد پاسپورٹ سایئز تصویریں', 'کمپیوٹر سیکشن سے کمپیوٹرائزڈ لائسنس رپورٹ', 'پولیس ایف آیَ آر', 'متعلقہ لائسنس کا ٹکٹ'], 'processing_fee': {'motorcycle': '100 روپے', 'car_ltv': '300 روپے', 'htv': '200 روپے'}, 'processing_time': '5 سرکاری دن', 'delivery_method': 'کوریئر'}, {'service_name': 'ملازم کی رجسٹریشن', 'description': 'کسی بھی گھریلو یا دیگر ملازم کو نوکری پر رکھتے وقت اس کا اندراج قریبی پولیس تھانے میں کروانا ہوتا ہے۔', 'required_documents': ['درخواست دہندہ کا اصلی شناختی کارڈ بمع 2 کاپیاں', 'ملازم کے شناختی کارڈ کی 2 کاپیاں', 'ملازم کی 2 عدد پاسپورٹ سایئز تصاویر', 'ایفیڈوڈ بمع 2 گواہوں کی تصدیق'], 'processing_fee': 'مفت', 'processing_time': '15 منٹ', 'delivery_method': 'موقع پر'}, {'service_name': 'کراےَ دار کی رجسٹریشن', 'description': 'گھر یا ہاسٹل کراےَ پر دینے کے لیے پولیس تھانے یا خدمت مرکز میں رجسٹریشن کرانا ضروری ہے۔', 'required_documents': ['مالک مکان کا شناختی کارڈ اور ایک کاپی', 'کراےَ دار کا شناختی کارڈ اور ایک کاپی', 'شٹامپ پیپر پر کراےَ کے معاہدہ کی کاپی'], 'processing_fee': 'مفت', 'processing_time': '15 منٹ', 'delivery_method': 'موقع پر'}, {'service_name': 'گاڑی کی تصدیق', 'description': 'گاڑی کی خرید و فروخت یا نقل و حمل سے قبل گاڑی کی تصدیق ضروری ہے۔', 'required_documents': ['شناختی کارڈ بمع دو کاپیاں', 'گاڑی کے اصل کاغذات اور ایک کاپی', 'گاڑی کے مالک کا کمپیوٹرائزڈ شناختی کارڈ', 'این او سی اگر گاڑی بینک کے نام پر ہے', 'ٹی پی میسج اور ٹرانسفر کاغذات اگر گاڑی بر آمد کی گیَ ہے'], 'processing_fee': {'motorcycle': '500 روپے', 'car_ltv_htv': '2000 روپے'}, 'processing_time': '30 منٹ', 'delivery_method': 'موقع پر'}, {'service_name': 'ڈرائیونگ لائسنس کی توثیق', 'description': 'شہری پولیس خدمت مرکز سے ڈرایئونگ لائسنس کی توثیق کے لئے درخواست جمع کروا سکتے ہیں۔', 'required_documents': ['ضروری درخواست فارم توثیق فایئل کور کے ساتھ', 'میڈیکل رپورٹ', 'شناختی کارڈ کی کاپی', '2 مصدقہ تازہ تصاویر', 'کم سے کم چھ ہفتے کا حقیقی لرنر پرمٹ', 'متعلقہ لائسنس کا ٹکٹ', 'پہلا لائسنس منسلک کیا جائے گا'], 'processing_fee': 'مفت', 'processing_time': '15 منٹ', 'delivery_method': 'موقع پر', 'notes': 'مزید تفصیل کے لئے برائے مہربانی ٹریفک پولیس انکوائری آفس سے رابطہ کریں۔'}, {'service_name': 'گمشدگی رپورٹ', 'description': 'ضروری کاغذات جیسے شناختی کارڈ، ڈرایئونگ لائسنس، اے۔ٹی۔ایم۔ کارڈ، تعلیمی کاغذات اور دوسری اشیاء اکثر گم یا چوری ہو جاتی ہیں۔', 'required_documents': ['درخواست دہندہ کا اصلی شناختی کارڈ بمع 2 کاپیاں', 'گمشدہ دستاویزات کی کاپی اگر موجود ہو', 'کسی بھی امدادی دستاویز کی کاپی'], 'processing_fee': 'مفت', 'processing_time': '15 منٹ', 'delivery_method': 'موقع پر'}, {'service_name': 'جرائم رپورٹ', 'description': 'پولیس خدمت مرکز کسی بھی جرم کی رپورٹ درج کرانے کی سہولت فراہم کرتا ہے۔', 'required_documents': ['درخواست دہندہ کا اصلی شناختی کارڈ اور 2 کاپیاں', 'درخواست دہندہ کی تحریری درخواست اگر موجود ہو'], 'processing_fee': 'مفت', 'processing_time': '15 منٹ', 'delivery_method': 'موقع پر'}, {'service_name': 'خواتین پر تشدد رپورٹ', 'description': 'پولیس خدمت مرکز خواتین پر ہونے والے تشدد کی شکایات کے اندراج اور قانونی معاونت فراہم کرتا ہے۔', 'required_documents': ['درخواست دہندہ کا اصلی شناختی کارڈ اور 2 کاپیاں', 'درخواست دہندہ کی تحریری درخواست اگر موجود ہو'], 'processing_fee': 'مفت', 'processing_time': '15 منٹ', 'delivery_method': 'موقع پر'}, {'service_name': 'ایف۔آئ۔آر۔کی کاپی', 'description': 'شہری کسی بھی پی کے ایم سے اپنی بنیادی معلومات فراہم کر کے ایف آئی آر کی کاپی حاصل کر سکتے ہیں۔', 'required_documents': ['درخواست دہندہ کا اصلی شناختی کارڈ بمع 2 کاپیاں', 'ایف آیَ آر حاصل کرنے کی وجہ', 'ایف آیَ آر نمبر اور پولیس تھانہ'], 'processing_fee': 'مفت', 'processing_time': '15 منٹ', 'delivery_method': 'موقع پر'}] [{'seq_num': 1, 'source': '/content/Services.json'}]\n",
            "* [{'service_name': 'کریکٹر سرٹیفیکیٹ', 'description': 'با ہر کے ممالک جانے کے لیے، باہر کے مختلف اداروں میں ملازمت حاصل کرنے کےلیے اور وطن بدلی کے لیے پولیس کریکٹر سرٹیفیکیٹ کی ضرورت پڑتی ہے۔', 'required_documents': ['3 پاسپورٹ سایز تصاویر (ہلکے نیلے رنگ کا بیک گراوَنڈ، غیر مصدقہ)', 'شناختی کارڈ اصلی', 'شناختی کارڈ کی دو کاپیاں (گزیٹیڈ افسر سے مصدقہ)', 'اصلی پاسپورٹ', 'پاسپورٹ کی ایک کاپی (گزیٹیڈ افسر سے مصدقہ)', '50 روپیہ کا حلف نامہ (عہدیدار کمشنر سے تصدیق شدہ)', 'اختیار نامہ (اگر درخواست دہندہ ملک سے باہر ہے)'], 'processing_fee': '500 روپے', 'processing_time': '5 سرکاری دن', 'delivery_method': 'کوریئر', 'notes': 'کریکٹر سرٹیفیکیٹ صرف امیدوار کے خود آنے پر ہی جمع کرایا جاتا ہے۔ اگر امیدوار ملک سے باہر ہو تو اس کی جگہ رشتہ دار اختیار نامہ کے ساتھ درخواست دے سکتا ہے۔'}, {'service_name': 'پولیس ویریفیکیشن', 'description': 'پاکستان کے مختلف اداروں میں ملازمت کی درخواست کے لیے پولیس ریکارڈ کی عمومی تصدیق ضروری ہوتی ہے۔', 'required_documents': ['اصلی شناختی کارڈ', 'شناختی کارڈ کی دو کاپیاں'], 'processing_fee': '300 روپے', 'processing_time': '5 سرکاری دن', 'delivery_method': 'کوریئر'}, {'service_name': 'لرنرز ڈرایئونگ لائسنس', 'description': 'شہری کسی بھی پی کے ایم سے لرنرز ڈرایئونگ لائسنس حاصل کر سکتے ہیں۔', 'required_documents': ['اصلی شناختی کارڈ بمع ایک کاپی', 'ٹریفک قوایئد و قوانین کی کتاب', 'میڈیکل سرٹیفیکیٹ (50 سال سے بڑے امیدواروں کے لیے)'], 'age_limits': {'motorcycle_car': '18 سال', 'ltv_rickshaw_commercial_tractor': '21 سال'}, 'processing_fee': '60 روپے', 'processing_time': '15 منٹ', 'delivery_method': 'موقع پر', 'notes': 'لرنرز پرمٹ روزانہ جاری ہوتے ہیں اور ان کی معیاد 2 مہینے ہوتی ہے۔'}, {'service_name': 'ڈرایئونگ لائسنس کی تجدید', 'description': 'شہری پولیس خدمت مرکز سے ڈرایئونگ لائسنس کی تجدید کے لئے درخواست جمع کروا سکتے ہیں۔', 'required_documents': ['ضروری درخواست فارم ای فایئل کور کے ساتھ', '2 عدد پاسپورٹ سایئز تصویریں', 'شناختی کارڈ کی کاپی', 'اصلی ڈرایئونگ لائسنس', 'میڈیکل سرٹیفیکیٹ (50 سال سے بڑے امیدواروں کے لیے)', 'متعلقہ لائسنس کا ٹکٹ'], 'processing_fee': {'motorcycle_rickshaw': '500 روپے', 'car_ltv': '750 روپے', 'htv': '2000 روپے'}, 'processing_time': '5 سرکاری دن', 'delivery_method': 'کوریئر'}, {'service_name': 'بین الاقوامی ڈرایئونگ لائسنس', 'description': 'شہری پولیس خدمت مرکز سے بین الاقوامی ڈرایئونگ لائسنس کےلئے درخواست جمع کروا سکتے ہیں۔', 'required_documents': ['بین الاقوامی درخواست فارم فایئل کور کے ساتھ', 'شناختی کارڈ کی تصدیق شدہ کاپی', 'لاہور سے حاصل کردہ اصلی ڈرایئونگ لائسنس کی کاپی', 'پاکستانی پاسپورٹ کی کاپی بمع 2 مہینہ کا ویزا', '2 عدد پاسپورٹ سایئز تصویریں (تصدیق شدہ)'], 'processing_fee': {'court': '66 روپے', 'challan': '450 روپے'}, 'processing_time': '5 سرکاری دن', 'delivery_method': 'کوریئر', 'notes': 'درخواست دہندہ اپنا اصلی شناختی کارڈ، ڈرایئونگ لائسنس اور پاسپورٹ ساتھ لاےَ گا/گی۔'}, {'service_name': 'نقل ڈرایئونگ لائسنس', 'description': 'شہری پولیس خدمت مرکز سے نقل ڈرایئونگ لائسنس کےلئے درخواست جمع کروا سکتے ہیں۔', 'required_documents': ['ضروری نقل درخواست فارم', 'شناختی کارڈ کی تصدیق شدہ کاپی', '2 عدد پاسپورٹ سایئز تصویریں', 'کمپیوٹر سیکشن سے کمپیوٹرائزڈ لائسنس رپورٹ', 'پولیس ایف آیَ آر', 'متعلقہ لائسنس کا ٹکٹ'], 'processing_fee': {'motorcycle': '100 روپے', 'car_ltv': '300 روپے', 'htv': '200 روپے'}, 'processing_time': '5 سرکاری دن', 'delivery_method': 'کوریئر'}, {'service_name': 'ملازم کی رجسٹریشن', 'description': 'کسی بھی گھریلو یا دیگر ملازم کو نوکری پر رکھتے وقت اس کا اندراج قریبی پولیس تھانے میں کروانا ہوتا ہے۔', 'required_documents': ['درخواست دہندہ کا اصلی شناختی کارڈ بمع 2 کاپیاں', 'ملازم کے شناختی کارڈ کی 2 کاپیاں', 'ملازم کی 2 عدد پاسپورٹ سایئز تصاویر', 'ایفیڈوڈ بمع 2 گواہوں کی تصدیق'], 'processing_fee': 'مفت', 'processing_time': '15 منٹ', 'delivery_method': 'موقع پر'}, {'service_name': 'کراےَ دار کی رجسٹریشن', 'description': 'گھر یا ہاسٹل کراےَ پر دینے کے لیے پولیس تھانے یا خدمت مرکز میں رجسٹریشن کرانا ضروری ہے۔', 'required_documents': ['مالک مکان کا شناختی کارڈ اور ایک کاپی', 'کراےَ دار کا شناختی کارڈ اور ایک کاپی', 'شٹامپ پیپر پر کراےَ کے معاہدہ کی کاپی'], 'processing_fee': 'مفت', 'processing_time': '15 منٹ', 'delivery_method': 'موقع پر'}, {'service_name': 'گاڑی کی تصدیق', 'description': 'گاڑی کی خرید و فروخت یا نقل و حمل سے قبل گاڑی کی تصدیق ضروری ہے۔', 'required_documents': ['شناختی کارڈ بمع دو کاپیاں', 'گاڑی کے اصل کاغذات اور ایک کاپی', 'گاڑی کے مالک کا کمپیوٹرائزڈ شناختی کارڈ', 'این او سی اگر گاڑی بینک کے نام پر ہے', 'ٹی پی میسج اور ٹرانسفر کاغذات اگر گاڑی بر آمد کی گیَ ہے'], 'processing_fee': {'motorcycle': '500 روپے', 'car_ltv_htv': '2000 روپے'}, 'processing_time': '30 منٹ', 'delivery_method': 'موقع پر'}, {'service_name': 'ڈرائیونگ لائسنس کی توثیق', 'description': 'شہری پولیس خدمت مرکز سے ڈرایئونگ لائسنس کی توثیق کے لئے درخواست جمع کروا سکتے ہیں۔', 'required_documents': ['ضروری درخواست فارم توثیق فایئل کور کے ساتھ', 'میڈیکل رپورٹ', 'شناختی کارڈ کی کاپی', '2 مصدقہ تازہ تصاویر', 'کم سے کم چھ ہفتے کا حقیقی لرنر پرمٹ', 'متعلقہ لائسنس کا ٹکٹ', 'پہلا لائسنس منسلک کیا جائے گا'], 'processing_fee': 'مفت', 'processing_time': '15 منٹ', 'delivery_method': 'موقع پر', 'notes': 'مزید تفصیل کے لئے برائے مہربانی ٹریفک پولیس انکوائری آفس سے رابطہ کریں۔'}, {'service_name': 'گمشدگی رپورٹ', 'description': 'ضروری کاغذات جیسے شناختی کارڈ، ڈرایئونگ لائسنس، اے۔ٹی۔ایم۔ کارڈ، تعلیمی کاغذات اور دوسری اشیاء اکثر گم یا چوری ہو جاتی ہیں۔', 'required_documents': ['درخواست دہندہ کا اصلی شناختی کارڈ بمع 2 کاپیاں', 'گمشدہ دستاویزات کی کاپی اگر موجود ہو', 'کسی بھی امدادی دستاویز کی کاپی'], 'processing_fee': 'مفت', 'processing_time': '15 منٹ', 'delivery_method': 'موقع پر'}, {'service_name': 'جرائم رپورٹ', 'description': 'پولیس خدمت مرکز کسی بھی جرم کی رپورٹ درج کرانے کی سہولت فراہم کرتا ہے۔', 'required_documents': ['درخواست دہندہ کا اصلی شناختی کارڈ اور 2 کاپیاں', 'درخواست دہندہ کی تحریری درخواست اگر موجود ہو'], 'processing_fee': 'مفت', 'processing_time': '15 منٹ', 'delivery_method': 'موقع پر'}, {'service_name': 'خواتین پر تشدد رپورٹ', 'description': 'پولیس خدمت مرکز خواتین پر ہونے والے تشدد کی شکایات کے اندراج اور قانونی معاونت فراہم کرتا ہے۔', 'required_documents': ['درخواست دہندہ کا اصلی شناختی کارڈ اور 2 کاپیاں', 'درخواست دہندہ کی تحریری درخواست اگر موجود ہو'], 'processing_fee': 'مفت', 'processing_time': '15 منٹ', 'delivery_method': 'موقع پر'}, {'service_name': 'ایف۔آئ۔آر۔کی کاپی', 'description': 'شہری کسی بھی پی کے ایم سے اپنی بنیادی معلومات فراہم کر کے ایف آئی آر کی کاپی حاصل کر سکتے ہیں۔', 'required_documents': ['درخواست دہندہ کا اصلی شناختی کارڈ بمع 2 کاپیاں', 'ایف آیَ آر حاصل کرنے کی وجہ', 'ایف آیَ آر نمبر اور پولیس تھانہ'], 'processing_fee': 'مفت', 'processing_time': '15 منٹ', 'delivery_method': 'موقع پر'}] [{'seq_num': 1, 'source': '/content/Services.json'}]\n"
          ]
        }
      ]
    },
    {
      "cell_type": "code",
      "source": [
        "# retriever = vector_store.as_retriever(search_type=\"similarity\", search_kwargs={\"k\": 5})"
      ],
      "metadata": {
        "id": "y4bq_d0EkGqm"
      },
      "execution_count": 40,
      "outputs": []
    },
    {
      "cell_type": "code",
      "source": [
        "retriever = vector_store.as_retriever(\n",
        "    search_type=\"mmr\", search_kwargs={\"k\": 1, \"fetch_k\": 5}\n",
        ")\n",
        "retriever.invoke(\"لرنرز ڈرایئونگ لائسنس\")"
      ],
      "metadata": {
        "colab": {
          "base_uri": "https://localhost:8080/"
        },
        "id": "5Z4CQTe-itek",
        "outputId": "4f458aac-0ddd-49d9-95df-9490d1851f25"
      },
      "execution_count": 39,
      "outputs": [
        {
          "output_type": "stream",
          "name": "stderr",
          "text": [
            "WARNING:chromadb.segment.impl.vector.local_persistent_hnsw:Number of requested results 5 is greater than number of elements in index 2, updating n_results = 2\n"
          ]
        },
        {
          "output_type": "execute_result",
          "data": {
            "text/plain": [
              "[Document(metadata={'seq_num': 1, 'source': '/content/Services.json'}, page_content=\"[{'service_name': 'کریکٹر سرٹیفیکیٹ', 'description': 'با ہر کے ممالک جانے کے لیے، باہر کے مختلف اداروں میں ملازمت حاصل کرنے کےلیے اور وطن بدلی کے لیے پولیس کریکٹر سرٹیفیکیٹ کی ضرورت پڑتی ہے۔', 'required_documents': ['3 پاسپورٹ سایز تصاویر (ہلکے نیلے رنگ کا بیک گراوَنڈ، غیر مصدقہ)', 'شناختی کارڈ اصلی', 'شناختی کارڈ کی دو کاپیاں (گزیٹیڈ افسر سے مصدقہ)', 'اصلی پاسپورٹ', 'پاسپورٹ کی ایک کاپی (گزیٹیڈ افسر سے مصدقہ)', '50 روپیہ کا حلف نامہ (عہدیدار کمشنر سے تصدیق شدہ)', 'اختیار نامہ (اگر درخواست دہندہ ملک سے باہر ہے)'], 'processing_fee': '500 روپے', 'processing_time': '5 سرکاری دن', 'delivery_method': 'کوریئر', 'notes': 'کریکٹر سرٹیفیکیٹ صرف امیدوار کے خود آنے پر ہی جمع کرایا جاتا ہے۔ اگر امیدوار ملک سے باہر ہو تو اس کی جگہ رشتہ دار اختیار نامہ کے ساتھ درخواست دے سکتا ہے۔'}, {'service_name': 'پولیس ویریفیکیشن', 'description': 'پاکستان کے مختلف اداروں میں ملازمت کی درخواست کے لیے پولیس ریکارڈ کی عمومی تصدیق ضروری ہوتی ہے۔', 'required_documents': ['اصلی شناختی کارڈ', 'شناختی کارڈ کی دو کاپیاں'], 'processing_fee': '300 روپے', 'processing_time': '5 سرکاری دن', 'delivery_method': 'کوریئر'}, {'service_name': 'لرنرز ڈرایئونگ لائسنس', 'description': 'شہری کسی بھی پی کے ایم سے لرنرز ڈرایئونگ لائسنس حاصل کر سکتے ہیں۔', 'required_documents': ['اصلی شناختی کارڈ بمع ایک کاپی', 'ٹریفک قوایئد و قوانین کی کتاب', 'میڈیکل سرٹیفیکیٹ (50 سال سے بڑے امیدواروں کے لیے)'], 'age_limits': {'motorcycle_car': '18 سال', 'ltv_rickshaw_commercial_tractor': '21 سال'}, 'processing_fee': '60 روپے', 'processing_time': '15 منٹ', 'delivery_method': 'موقع پر', 'notes': 'لرنرز پرمٹ روزانہ جاری ہوتے ہیں اور ان کی معیاد 2 مہینے ہوتی ہے۔'}, {'service_name': 'ڈرایئونگ لائسنس کی تجدید', 'description': 'شہری پولیس خدمت مرکز سے ڈرایئونگ لائسنس کی تجدید کے لئے درخواست جمع کروا سکتے ہیں۔', 'required_documents': ['ضروری درخواست فارم ای فایئل کور کے ساتھ', '2 عدد پاسپورٹ سایئز تصویریں', 'شناختی کارڈ کی کاپی', 'اصلی ڈرایئونگ لائسنس', 'میڈیکل سرٹیفیکیٹ (50 سال سے بڑے امیدواروں کے لیے)', 'متعلقہ لائسنس کا ٹکٹ'], 'processing_fee': {'motorcycle_rickshaw': '500 روپے', 'car_ltv': '750 روپے', 'htv': '2000 روپے'}, 'processing_time': '5 سرکاری دن', 'delivery_method': 'کوریئر'}, {'service_name': 'بین الاقوامی ڈرایئونگ لائسنس', 'description': 'شہری پولیس خدمت مرکز سے بین الاقوامی ڈرایئونگ لائسنس کےلئے درخواست جمع کروا سکتے ہیں۔', 'required_documents': ['بین الاقوامی درخواست فارم فایئل کور کے ساتھ', 'شناختی کارڈ کی تصدیق شدہ کاپی', 'لاہور سے حاصل کردہ اصلی ڈرایئونگ لائسنس کی کاپی', 'پاکستانی پاسپورٹ کی کاپی بمع 2 مہینہ کا ویزا', '2 عدد پاسپورٹ سایئز تصویریں (تصدیق شدہ)'], 'processing_fee': {'court': '66 روپے', 'challan': '450 روپے'}, 'processing_time': '5 سرکاری دن', 'delivery_method': 'کوریئر', 'notes': 'درخواست دہندہ اپنا اصلی شناختی کارڈ، ڈرایئونگ لائسنس اور پاسپورٹ ساتھ لاےَ گا/گی۔'}, {'service_name': 'نقل ڈرایئونگ لائسنس', 'description': 'شہری پولیس خدمت مرکز سے نقل ڈرایئونگ لائسنس کےلئے درخواست جمع کروا سکتے ہیں۔', 'required_documents': ['ضروری نقل درخواست فارم', 'شناختی کارڈ کی تصدیق شدہ کاپی', '2 عدد پاسپورٹ سایئز تصویریں', 'کمپیوٹر سیکشن سے کمپیوٹرائزڈ لائسنس رپورٹ', 'پولیس ایف آیَ آر', 'متعلقہ لائسنس کا ٹکٹ'], 'processing_fee': {'motorcycle': '100 روپے', 'car_ltv': '300 روپے', 'htv': '200 روپے'}, 'processing_time': '5 سرکاری دن', 'delivery_method': 'کوریئر'}, {'service_name': 'ملازم کی رجسٹریشن', 'description': 'کسی بھی گھریلو یا دیگر ملازم کو نوکری پر رکھتے وقت اس کا اندراج قریبی پولیس تھانے میں کروانا ہوتا ہے۔', 'required_documents': ['درخواست دہندہ کا اصلی شناختی کارڈ بمع 2 کاپیاں', 'ملازم کے شناختی کارڈ کی 2 کاپیاں', 'ملازم کی 2 عدد پاسپورٹ سایئز تصاویر', 'ایفیڈوڈ بمع 2 گواہوں کی تصدیق'], 'processing_fee': 'مفت', 'processing_time': '15 منٹ', 'delivery_method': 'موقع پر'}, {'service_name': 'کراےَ دار کی رجسٹریشن', 'description': 'گھر یا ہاسٹل کراےَ پر دینے کے لیے پولیس تھانے یا خدمت مرکز میں رجسٹریشن کرانا ضروری ہے۔', 'required_documents': ['مالک مکان کا شناختی کارڈ اور ایک کاپی', 'کراےَ دار کا شناختی کارڈ اور ایک کاپی', 'شٹامپ پیپر پر کراےَ کے معاہدہ کی کاپی'], 'processing_fee': 'مفت', 'processing_time': '15 منٹ', 'delivery_method': 'موقع پر'}, {'service_name': 'گاڑی کی تصدیق', 'description': 'گاڑی کی خرید و فروخت یا نقل و حمل سے قبل گاڑی کی تصدیق ضروری ہے۔', 'required_documents': ['شناختی کارڈ بمع دو کاپیاں', 'گاڑی کے اصل کاغذات اور ایک کاپی', 'گاڑی کے مالک کا کمپیوٹرائزڈ شناختی کارڈ', 'این او سی اگر گاڑی بینک کے نام پر ہے', 'ٹی پی میسج اور ٹرانسفر کاغذات اگر گاڑی بر آمد کی گیَ ہے'], 'processing_fee': {'motorcycle': '500 روپے', 'car_ltv_htv': '2000 روپے'}, 'processing_time': '30 منٹ', 'delivery_method': 'موقع پر'}, {'service_name': 'ڈرائیونگ لائسنس کی توثیق', 'description': 'شہری پولیس خدمت مرکز سے ڈرایئونگ لائسنس کی توثیق کے لئے درخواست جمع کروا سکتے ہیں۔', 'required_documents': ['ضروری درخواست فارم توثیق فایئل کور کے ساتھ', 'میڈیکل رپورٹ', 'شناختی کارڈ کی کاپی', '2 مصدقہ تازہ تصاویر', 'کم سے کم چھ ہفتے کا حقیقی لرنر پرمٹ', 'متعلقہ لائسنس کا ٹکٹ', 'پہلا لائسنس منسلک کیا جائے گا'], 'processing_fee': 'مفت', 'processing_time': '15 منٹ', 'delivery_method': 'موقع پر', 'notes': 'مزید تفصیل کے لئے برائے مہربانی ٹریفک پولیس انکوائری آفس سے رابطہ کریں۔'}, {'service_name': 'گمشدگی رپورٹ', 'description': 'ضروری کاغذات جیسے شناختی کارڈ، ڈرایئونگ لائسنس، اے۔ٹی۔ایم۔ کارڈ، تعلیمی کاغذات اور دوسری اشیاء اکثر گم یا چوری ہو جاتی ہیں۔', 'required_documents': ['درخواست دہندہ کا اصلی شناختی کارڈ بمع 2 کاپیاں', 'گمشدہ دستاویزات کی کاپی اگر موجود ہو', 'کسی بھی امدادی دستاویز کی کاپی'], 'processing_fee': 'مفت', 'processing_time': '15 منٹ', 'delivery_method': 'موقع پر'}, {'service_name': 'جرائم رپورٹ', 'description': 'پولیس خدمت مرکز کسی بھی جرم کی رپورٹ درج کرانے کی سہولت فراہم کرتا ہے۔', 'required_documents': ['درخواست دہندہ کا اصلی شناختی کارڈ اور 2 کاپیاں', 'درخواست دہندہ کی تحریری درخواست اگر موجود ہو'], 'processing_fee': 'مفت', 'processing_time': '15 منٹ', 'delivery_method': 'موقع پر'}, {'service_name': 'خواتین پر تشدد رپورٹ', 'description': 'پولیس خدمت مرکز خواتین پر ہونے والے تشدد کی شکایات کے اندراج اور قانونی معاونت فراہم کرتا ہے۔', 'required_documents': ['درخواست دہندہ کا اصلی شناختی کارڈ اور 2 کاپیاں', 'درخواست دہندہ کی تحریری درخواست اگر موجود ہو'], 'processing_fee': 'مفت', 'processing_time': '15 منٹ', 'delivery_method': 'موقع پر'}, {'service_name': 'ایف۔آئ۔آر۔کی کاپی', 'description': 'شہری کسی بھی پی کے ایم سے اپنی بنیادی معلومات فراہم کر کے ایف آئی آر کی کاپی حاصل کر سکتے ہیں۔', 'required_documents': ['درخواست دہندہ کا اصلی شناختی کارڈ بمع 2 کاپیاں', 'ایف آیَ آر حاصل کرنے کی وجہ', 'ایف آیَ آر نمبر اور پولیس تھانہ'], 'processing_fee': 'مفت', 'processing_time': '15 منٹ', 'delivery_method': 'موقع پر'}]\")]"
            ]
          },
          "metadata": {},
          "execution_count": 39
        }
      ]
    },
    {
      "cell_type": "markdown",
      "source": [
        "# chat prototype"
      ],
      "metadata": {
        "id": "A2qys4dFokiM"
      }
    },
    {
      "cell_type": "code",
      "source": [
        "from langchain import hub\n",
        "\n",
        "prompt = hub.pull(\"rlm/rag-prompt\")\n",
        "\n",
        "example_messages = prompt.invoke(\n",
        "    {\"context\": \"(context goes here)\", \"question\": \"(question goes here)\"}\n",
        ").to_messages()\n",
        "\n",
        "assert len(example_messages) == 1\n",
        "print(example_messages[0].content)"
      ],
      "metadata": {
        "colab": {
          "base_uri": "https://localhost:8080/"
        },
        "id": "Iz_DULjvkaVN",
        "outputId": "a8f48862-3c8d-43af-a267-f656561c27da"
      },
      "execution_count": 52,
      "outputs": [
        {
          "output_type": "stream",
          "name": "stdout",
          "text": [
            "You are an assistant for question-answering tasks. Use the following pieces of retrieved context to answer the question. If you don't know the answer, just say that you don't know. Use three sentences maximum and keep the answer concise.\n",
            "Question: (question goes here) \n",
            "Context: (context goes here) \n",
            "Answer:\n"
          ]
        }
      ]
    },
    {
      "cell_type": "code",
      "source": [
        "from langchain_core.documents import Document\n",
        "from typing_extensions import List, TypedDict\n",
        "\n",
        "\n",
        "class State(TypedDict):\n",
        "    question: str\n",
        "    context: List[Document]\n",
        "    answer: str"
      ],
      "metadata": {
        "id": "u6sbWLVGmYiW"
      },
      "execution_count": 53,
      "outputs": []
    },
    {
      "cell_type": "code",
      "source": [
        "def retrieve(state: State):\n",
        "    retrieved_docs = vector_store.similarity_search(state[\"question\"])\n",
        "    return {\"context\": retrieved_docs}\n",
        "\n",
        "\n",
        "def generate(state: State):\n",
        "    docs_content = \"\\n\\n\".join(doc.page_content for doc in state[\"context\"])\n",
        "    messages = prompt.invoke({\"question\": state[\"question\"], \"context\": docs_content})\n",
        "    response = model.invoke(messages)\n",
        "    return {\"answer\": response.content}"
      ],
      "metadata": {
        "id": "IZSTKZpQmilD"
      },
      "execution_count": 54,
      "outputs": []
    },
    {
      "cell_type": "code",
      "source": [
        "from langgraph.graph import START, StateGraph\n",
        "\n",
        "graph_builder = StateGraph(State).add_sequence([retrieve, generate])\n",
        "graph_builder.add_edge(START, \"retrieve\")\n",
        "graph = graph_builder.compile()"
      ],
      "metadata": {
        "id": "4z4tWNv2mmjr"
      },
      "execution_count": 55,
      "outputs": []
    },
    {
      "cell_type": "code",
      "source": [
        "# from IPython.display import Image, display\n",
        "\n",
        "# display(Image(graph.get_graph().draw_mermaid_png()))"
      ],
      "metadata": {
        "id": "whRRX08smqk4"
      },
      "execution_count": 56,
      "outputs": []
    },
    {
      "cell_type": "code",
      "source": [
        "result = graph.invoke({\"question\": \"کریکٹر سرٹیفیکیٹ\"})\n",
        "\n",
        "# print(f'Context: {result[\"context\"]}\\n\\n')\n",
        "print(f'Answer: {result[\"answer\"]}')"
      ],
      "metadata": {
        "colab": {
          "base_uri": "https://localhost:8080/"
        },
        "id": "29cL8CRUmzEv",
        "outputId": "f4299d1b-5635-42e9-8880-5fc00159df10"
      },
      "execution_count": 59,
      "outputs": [
        {
          "output_type": "stream",
          "name": "stderr",
          "text": [
            "WARNING:chromadb.segment.impl.vector.local_persistent_hnsw:Number of requested results 4 is greater than number of elements in index 2, updating n_results = 2\n"
          ]
        },
        {
          "output_type": "stream",
          "name": "stdout",
          "text": [
            "Answer: کریکٹر سرٹیفیکیٹ بین الاقوامی سفر، ملازمت، اور وطن بدلی کے لیے ضروری ہے۔ اس کے لیے ضروری دستاویزات میں 3 پاسپورٹ سایز تصاویر، اصلی شناختی کارڈ، اور 50 روپیہ کا حلف نامہ شامل ہیں۔ پروسیسنگ فیس 500 روپے ہے اور پروسیسنگ ٹائم 5 سرکاری دن ہے۔\n"
          ]
        }
      ]
    },
    {
      "cell_type": "markdown",
      "source": [
        "\n",
        "\n",
        "---\n",
        "\n"
      ],
      "metadata": {
        "id": "SAi97ll6BY2n"
      }
    },
    {
      "cell_type": "code",
      "source": [
        "from langgraph.checkpoint.memory import MemorySaver\n",
        "from langgraph.graph import START, MessagesState, StateGraph, add_messages\n",
        "from typing import Sequence\n",
        "from typing_extensions import Annotated, TypedDict\n",
        "from langchain_core.messages import SystemMessage, trim_messages,BaseMessage\n",
        "from langchain_core.prompts import ChatPromptTemplate, MessagesPlaceholder"
      ],
      "metadata": {
        "id": "tbUU84uu8LV6"
      },
      "execution_count": null,
      "outputs": []
    },
    {
      "cell_type": "code",
      "source": [
        "prompt_template = ChatPromptTemplate.from_messages(\n",
        "    [\n",
        "        (\n",
        "            \"system\",\n",
        "            \"You are a helpful assistant. Answer all questions to the best of your ability in {language}.\",\n",
        "        ),\n",
        "        MessagesPlaceholder(variable_name=\"messages\"),\n",
        "    ]\n",
        ")"
      ],
      "metadata": {
        "id": "XrI1rxiD4tIh"
      },
      "execution_count": null,
      "outputs": []
    },
    {
      "cell_type": "code",
      "source": [
        "trimmer = trim_messages(\n",
        "    max_tokens=65,\n",
        "    strategy=\"last\",\n",
        "    token_counter=model,\n",
        "    include_system=True,\n",
        "    allow_partial=False,\n",
        "    start_on=\"human\",\n",
        ")"
      ],
      "metadata": {
        "id": "zjXwLZUR8P3i"
      },
      "execution_count": null,
      "outputs": []
    },
    {
      "cell_type": "code",
      "source": [
        "class State(TypedDict):\n",
        "    messages: Annotated[Sequence[BaseMessage], add_messages]\n",
        "    language: str\n",
        "\n",
        "workflow = StateGraph(state_schema=State)\n",
        "\n",
        "\n",
        "def call_model(state: State):\n",
        "    trimmed_messages = trimmer.invoke(state[\"messages\"])\n",
        "    prompt = prompt_template.invoke(\n",
        "        {\"messages\": trimmed_messages, \"language\": state[\"language\"]}\n",
        "    )\n",
        "    response = model.invoke(prompt)\n",
        "    return {\"messages\": [response]}\n",
        "\n",
        "\n",
        "workflow.add_edge(START, \"model\")\n",
        "workflow.add_node(\"model\", call_model)\n",
        "\n",
        "memory = MemorySaver()\n",
        "app = workflow.compile(checkpointer=memory)"
      ],
      "metadata": {
        "id": "IW_yi2sA4PWz"
      },
      "execution_count": null,
      "outputs": []
    },
    {
      "cell_type": "code",
      "source": [
        "config = {\"configurable\": {\"thread_id\": \"abc234\"}}"
      ],
      "metadata": {
        "id": "ANFQKTLN7LYL"
      },
      "execution_count": null,
      "outputs": []
    },
    {
      "cell_type": "code",
      "source": [
        "query = \"hello mara nam Wali ha or ma Pakistan sy hu.\"\n",
        "\n",
        "input_messages = [HumanMessage(query)]\n",
        "output = app.invoke(\n",
        "    {\"messages\": input_messages, \"language\": \"Urdu\"},\n",
        "    config,\n",
        ")\n",
        "output[\"messages\"][-1].pretty_print()"
      ],
      "metadata": {
        "colab": {
          "base_uri": "https://localhost:8080/"
        },
        "id": "0I9gafJ24WqV",
        "outputId": "28716b48-93a4-44ab-fde6-993f346126f1"
      },
      "execution_count": null,
      "outputs": [
        {
          "output_type": "stream",
          "name": "stdout",
          "text": [
            "==================================\u001b[1m Ai Message \u001b[0m==================================\n",
            "\n",
            "Assalam-o-alaikum Wali! Aap ka Pakistan se hone ka mubarak. Aap mere sath Urdu mein baat kar saktay hain, maan lo mujhe yeh samajhna aata hai aur aapki madad kar sakta hoon. Aap kaisay hain?\n"
          ]
        }
      ]
    },
    {
      "cell_type": "code",
      "source": [
        "input_messages = [HumanMessage(\"You was supposted to answer me in Urdu.\")]\n",
        "output = app.invoke(\n",
        "    {\"messages\": input_messages, \"language\": \"Urdu\"},\n",
        "    config,\n",
        ")\n",
        "output[\"messages\"][-1].pretty_print()"
      ],
      "metadata": {
        "colab": {
          "base_uri": "https://localhost:8080/"
        },
        "id": "EOlVZfRL1LVx",
        "outputId": "f8f32e16-6337-47d5-80f3-0d627e5af5c0"
      },
      "execution_count": null,
      "outputs": [
        {
          "output_type": "stream",
          "name": "stdout",
          "text": [
            "==================================\u001b[1m Ai Message \u001b[0m==================================\n",
            "\n",
            "معاف کیجئے، میں اب اردو میں جواب دیتا ہوں۔ آپ کا سوال کیا ہے؟\n"
          ]
        }
      ]
    },
    {
      "cell_type": "code",
      "source": [],
      "metadata": {
        "id": "LL8vXMJc7iU1"
      },
      "execution_count": null,
      "outputs": []
    }
  ]
}